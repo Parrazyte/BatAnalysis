{
 "cells": [
  {
   "cell_type": "markdown",
   "id": "3d35fe57",
   "metadata": {},
   "source": [
    "# The BatAnalysis Survey Data Analysis Code\n",
    "\n",
    "### This notebook will go through how the BatAnalysis code can be used to analyze BAT survey data."
   ]
  },
  {
   "cell_type": "code",
   "execution_count": 1,
   "id": "f9b7885a",
   "metadata": {},
   "outputs": [
    {
     "name": "stdout",
     "output_type": "stream",
     "text": [
      "\n"
     ]
    },
    {
     "data": {
      "application/vnd.jupyter.widget-view+json": {
       "model_id": "8fc75ee34f7a4ab0b395ce7eb4881476",
       "version_major": 2,
       "version_minor": 0
      },
      "text/plain": [
       "Downloading files:   0%|          | 0/27 [00:00<?, ?files/s]"
      ]
     },
     "metadata": {},
     "output_type": "display_data"
    },
    {
     "data": {
      "application/vnd.jupyter.widget-view+json": {
       "model_id": "be3e886cdef2401398ae61b35509ecf8",
       "version_major": 2,
       "version_minor": 0
      },
      "text/plain": [
       "Downloading files:   0%|          | 0/24 [00:00<?, ?files/s]"
      ]
     },
     "metadata": {},
     "output_type": "display_data"
    },
    {
     "data": {
      "application/vnd.jupyter.widget-view+json": {
       "model_id": "cab0657bf1ff4ba89551544a258284c8",
       "version_major": 2,
       "version_minor": 0
      },
      "text/plain": [
       "Downloading files:   0%|          | 0/21 [00:00<?, ?files/s]"
      ]
     },
     "metadata": {},
     "output_type": "display_data"
    },
    {
     "data": {
      "application/vnd.jupyter.widget-view+json": {
       "model_id": "44739008324d4d2fa1f3abfef513e829",
       "version_major": 2,
       "version_minor": 0
      },
      "text/plain": [
       "Downloading files:   0%|          | 0/24 [00:00<?, ?files/s]"
      ]
     },
     "metadata": {},
     "output_type": "display_data"
    },
    {
     "data": {
      "application/vnd.jupyter.widget-view+json": {
       "model_id": "74cb1a159bd843ff8462d2e196eec1f9",
       "version_major": 2,
       "version_minor": 0
      },
      "text/plain": [
       "Downloading files:   0%|          | 0/30 [00:00<?, ?files/s]"
      ]
     },
     "metadata": {},
     "output_type": "display_data"
    },
    {
     "data": {
      "text/plain": [
       "{'03108111001': {'success': True,\n",
       "  'obsoutdir': PosixPath('/Users/slaha/Desktop/BAT_projects/GIT_Repository_directory_Jan2022/J221951_48424_data/03108111001'),\n",
       "  'quicklook': False,\n",
       "  'data': Swift_Data(username='anonymous',obsid='03108111001',quicklook='False',auxil='True',bat='True',xrt='False',uvot='False',log='False')},\n",
       " '03108111002': {'success': True,\n",
       "  'obsoutdir': PosixPath('/Users/slaha/Desktop/BAT_projects/GIT_Repository_directory_Jan2022/J221951_48424_data/03108111002'),\n",
       "  'quicklook': False,\n",
       "  'data': Swift_Data(username='anonymous',obsid='03108111002',quicklook='False',auxil='True',bat='True',xrt='False',uvot='False',log='False')},\n",
       " '07021582001': {'success': True,\n",
       "  'obsoutdir': PosixPath('/Users/slaha/Desktop/BAT_projects/GIT_Repository_directory_Jan2022/J221951_48424_data/07021582001'),\n",
       "  'quicklook': False,\n",
       "  'data': Swift_Data(username='anonymous',obsid='07021582001',quicklook='False',auxil='True',bat='True',xrt='False',uvot='False',log='False')},\n",
       " '07400048001': {'success': True,\n",
       "  'obsoutdir': PosixPath('/Users/slaha/Desktop/BAT_projects/GIT_Repository_directory_Jan2022/J221951_48424_data/07400048001'),\n",
       "  'quicklook': False,\n",
       "  'data': Swift_Data(username='anonymous',obsid='07400048001',quicklook='False',auxil='True',bat='True',xrt='False',uvot='False',log='False')},\n",
       " '07400048002': {'success': True,\n",
       "  'obsoutdir': PosixPath('/Users/slaha/Desktop/BAT_projects/GIT_Repository_directory_Jan2022/J221951_48424_data/07400048002'),\n",
       "  'quicklook': False,\n",
       "  'data': Swift_Data(username='anonymous',obsid='07400048002',quicklook='False',auxil='True',bat='True',xrt='False',uvot='False',log='False')}}"
      ]
     },
     "execution_count": 1,
     "metadata": {},
     "output_type": "execute_result"
    }
   ],
   "source": [
    "import batanalysis as ba\n",
    "import matplotlib.pyplot as plt\n",
    "%matplotlib notebook\n",
    "import os\n",
    "os.environ['HEADASNOQUERY']='1' #This line is for dealing with heasoftpy outputs in jupyter notebooks\n",
    "\n",
    "import numpy as np\n",
    "\n",
    "#we will be querying from HEASARC so we will import this from astroquery\n",
    "from astroquery.heasarc import Heasarc\n",
    "heasarc=Heasarc()\n",
    "\n",
    "\n",
    "##############.   Downloading the data at our preferred location...\n",
    "\n",
    "object_name='J221951-48424'\n",
    "mission = 'swiftmastr'\n",
    "table = heasarc.query_object(object_name, mission=mission, sortvar=\"START_TIME\")\n",
    "obs_dir=\"/Users/slaha/Desktop/BAT_projects/GIT_Repository_directory_Jan2022/J221951_48424_data/\"\n",
    "#table.pprint_all()\n",
    "#print(table[:5])\n",
    "ba.download_swiftdata(table[:5], save_dir=\"/Users/slaha/Desktop/BAT_projects/GIT_Repository_directory_Jan2022/J221951_48424_data\") \n",
    "#Or esle it will save it in some place else: ~/.swift/swift_data_dir/\n",
    "\n",
    "\n"
   ]
  },
  {
   "cell_type": "code",
   "execution_count": 5,
   "id": "26d82eb4",
   "metadata": {
    "scrolled": true
   },
   "outputs": [
    {
     "name": "stdout",
     "output_type": "stream",
     "text": [
      "03108111001\n",
      "A save file has been written to /Users/slaha/Desktop/BAT_projects/GIT_Repository_directory_Jan2022/J221951_48424_data/03108111001_surveyresult/batsurvey.pickle.\n",
      "03108111002\n",
      "Obsid has no survey data\n",
      "07021582001\n",
      "A save file has been written to /Users/slaha/Desktop/BAT_projects/GIT_Repository_directory_Jan2022/J221951_48424_data/07021582001_surveyresult/batsurvey.pickle.\n",
      "Obsid has no survey data\n",
      "07400048001\n",
      "A save file has been written to /Users/slaha/Desktop/BAT_projects/GIT_Repository_directory_Jan2022/J221951_48424_data/07400048001_surveyresult/batsurvey.pickle.\n",
      "07400048002\n",
      "A save file has been written to /Users/slaha/Desktop/BAT_projects/GIT_Repository_directory_Jan2022/J221951_48424_data/07400048002_surveyresult/batsurvey.pickle.\n",
      "07400048003\n"
     ]
    },
    {
     "ename": "FileNotFoundError",
     "evalue": "The directory /Users/slaha/Desktop/BAT_projects/GIT_Repository_directory_Jan2022/J221951_48424_data does not contain the observation data corresponding to ID: 07400048003",
     "output_type": "error",
     "traceback": [
      "\u001b[0;31m---------------------------------------------------------------------------\u001b[0m",
      "\u001b[0;31mFileNotFoundError\u001b[0m                         Traceback (most recent call last)",
      "Input \u001b[0;32mIn [5]\u001b[0m, in \u001b[0;36m<cell line: 8>\u001b[0;34m()\u001b[0m\n\u001b[1;32m     10\u001b[0m \u001b[38;5;28mprint\u001b[39m(i)\n\u001b[1;32m     11\u001b[0m \u001b[38;5;28;01mtry\u001b[39;00m:\n\u001b[0;32m---> 13\u001b[0m     obs\u001b[38;5;241m=\u001b[39m\u001b[43mba\u001b[49m\u001b[38;5;241;43m.\u001b[39;49m\u001b[43mBatSurvey\u001b[49m\u001b[43m(\u001b[49m\u001b[38;5;28;43mstr\u001b[39;49m\u001b[43m(\u001b[49m\u001b[43mi\u001b[49m\u001b[43m)\u001b[49m\u001b[43m,\u001b[49m\u001b[43mrecalc\u001b[49m\u001b[38;5;241;43m=\u001b[39;49m\u001b[38;5;28;43;01mTrue\u001b[39;49;00m\u001b[43m,\u001b[49m\u001b[43mobs_dir\u001b[49m\u001b[38;5;241;43m=\u001b[39;49m\u001b[38;5;124;43m\"\u001b[39;49m\u001b[38;5;124;43m/Users/slaha/Desktop/BAT_projects/GIT_Repository_directory_Jan2022/J221951_48424_data/\u001b[39;49m\u001b[38;5;124;43m\"\u001b[39;49m\u001b[43m)\u001b[49m\n\u001b[1;32m     15\u001b[0m     obs\u001b[38;5;241m.\u001b[39msave()\n\u001b[1;32m     16\u001b[0m     batsurvey_obs\u001b[38;5;241m.\u001b[39mappend(obs)\n",
      "File \u001b[0;32m~/Desktop/BAT_projects/GIT_Repository_directory_Jan2022/survey_data/batanalysis/batobservation.py:162\u001b[0m, in \u001b[0;36mBatSurvey.__init__\u001b[0;34m(self, obs_id, obs_dir, input_dict, recalc, verbose, load_dir)\u001b[0m\n\u001b[1;32m    159\u001b[0m \u001b[38;5;28mself\u001b[39m\u001b[38;5;241m.\u001b[39mpha_file_names_list \u001b[38;5;241m=\u001b[39m []\n\u001b[1;32m    161\u001b[0m \u001b[38;5;66;03m#initialize super class\u001b[39;00m\n\u001b[0;32m--> 162\u001b[0m \u001b[38;5;28;43msuper\u001b[39;49m\u001b[43m(\u001b[49m\u001b[43m)\u001b[49m\u001b[38;5;241;43m.\u001b[39;49m\u001b[38;5;21;43m__init__\u001b[39;49m\u001b[43m(\u001b[49m\u001b[43mobs_id\u001b[49m\u001b[43m,\u001b[49m\u001b[43m \u001b[49m\u001b[43mobs_dir\u001b[49m\u001b[43m)\u001b[49m\n\u001b[1;32m    164\u001b[0m \u001b[38;5;66;03m#See if a loadfile exists, if we dont want to recalcualte everything, otherwise remove any load file and\u001b[39;00m\n\u001b[1;32m    165\u001b[0m \u001b[38;5;66;03m# .batsurveycomplete file (this is produced only if the batsurvey calculation was completely finished, and thus\u001b[39;00m\n\u001b[1;32m    166\u001b[0m \u001b[38;5;66;03m# know that we can safely load the batsurvey.pickle file)\u001b[39;00m\n\u001b[1;32m    167\u001b[0m \u001b[38;5;28;01mif\u001b[39;00m \u001b[38;5;129;01mnot\u001b[39;00m recalc \u001b[38;5;129;01mand\u001b[39;00m load_dir \u001b[38;5;129;01mis\u001b[39;00m \u001b[38;5;28;01mNone\u001b[39;00m:\n",
      "File \u001b[0;32m~/Desktop/BAT_projects/GIT_Repository_directory_Jan2022/survey_data/batanalysis/batobservation.py:58\u001b[0m, in \u001b[0;36mBatObservation.__init__\u001b[0;34m(self, obs_id, obs_dir)\u001b[0m\n\u001b[1;32m     56\u001b[0m         \u001b[38;5;28mself\u001b[39m\u001b[38;5;241m.\u001b[39mobs_dir \u001b[38;5;241m=\u001b[39m obs_dir\u001b[38;5;241m.\u001b[39mjoinpath(\u001b[38;5;28mself\u001b[39m\u001b[38;5;241m.\u001b[39mobs_id) \u001b[38;5;66;03m# os.path.join(obs_dir , self.obs_id)\u001b[39;00m\n\u001b[1;32m     57\u001b[0m     \u001b[38;5;28;01melse\u001b[39;00m:\n\u001b[0;32m---> 58\u001b[0m         \u001b[38;5;28;01mraise\u001b[39;00m \u001b[38;5;167;01mFileNotFoundError\u001b[39;00m(\n\u001b[1;32m     59\u001b[0m             \u001b[38;5;124m'\u001b[39m\u001b[38;5;124mThe directory \u001b[39m\u001b[38;5;132;01m%s\u001b[39;00m\u001b[38;5;124m does not contain the observation data corresponding to ID: \u001b[39m\u001b[38;5;132;01m%s\u001b[39;00m\u001b[38;5;124m'\u001b[39m \u001b[38;5;241m%\u001b[39m (obs_dir, \u001b[38;5;28mself\u001b[39m\u001b[38;5;241m.\u001b[39mobs_id))\n\u001b[1;32m     60\u001b[0m \u001b[38;5;28;01melse\u001b[39;00m:\n\u001b[1;32m     61\u001b[0m     obs_dir \u001b[38;5;241m=\u001b[39m datadir()  \u001b[38;5;66;03m#Path.cwd()\u001b[39;00m\n",
      "\u001b[0;31mFileNotFoundError\u001b[0m: The directory /Users/slaha/Desktop/BAT_projects/GIT_Repository_directory_Jan2022/J221951_48424_data does not contain the observation data corresponding to ID: 07400048003"
     ]
    }
   ],
   "source": [
    "\n",
    "################.  BAT Survey\n",
    "batsurvey_obs=[]\n",
    "obs_dir=\"/Users/slaha/Desktop/BAT_projects/GIT_Repository_directory_Jan2022/J221951_48424_data/\"\n",
    "#input_dict=dict(obs_dir)       #Creating a dictionary to set up the input and output directories and the files\n",
    "\n",
    "#FRB180916_dir=\"/Users/slaha/Desktop/BAT_projects/GIT_Repository_directory_Jan2022/survey_data/FRB180916_data\"\n",
    "\n",
    "for i in table[\"OBSID\"][:]:\n",
    "\n",
    "    print(i)\n",
    "    try:\n",
    "        \n",
    "        obs=ba.BatSurvey(str(i),recalc=True,obs_dir=\"/Users/slaha/Desktop/BAT_projects/GIT_Repository_directory_Jan2022/J221951_48424_data/\")\n",
    "    \n",
    "        obs.save()\n",
    "        batsurvey_obs.append(obs)\n",
    "    except ValueError:\n",
    "        print(\"Obsid has no survey data\")\n",
    "\n",
    "\n"
   ]
  },
  {
   "cell_type": "code",
   "execution_count": 3,
   "id": "76a10ee8",
   "metadata": {},
   "outputs": [
    {
     "name": "stdout",
     "output_type": "stream",
     "text": [
      "Running calculate_PHA for observation id ['20200371529']\n",
      "batsurvey-catmux v0.1\n",
      "----------------------------------------------------------\n",
      "Creating PHA file for  FRB180916\n",
      "Time interval: [602695795.0] [602696883.0]\n",
      "\n",
      "1 spectrum  in use\n",
      " \n",
      "Spectral Data File: /Users/slaha/Desktop/BAT_projects/GIT_Repository_directory_Jan2022/survey_data/FRB180916_data/00013201005_surveyresult/PHA_files/FRB180916_survey_point_20200371529.pha  Spectrum 1\n",
      "Net count rate (cts/s) for Spectrum:1  -2.134e-04 +/- 3.770e-04\n",
      " Assigned to Data Group 1 and Plot Group 1\n",
      "  Noticed Channels:  1-8\n",
      "  Telescope: SWIFT Instrument: BAT  Channel Type: PI\n",
      "  Exposure Time: 1088 sec\n",
      " Using fit statistic: chi\n",
      "Error executing command: fit\n",
      " Using Response (RMF) File            FRB180916_survey_point_20200371529.rsp for Source 1\n",
      "\n",
      "\n",
      "========================================================================\n",
      "Model cflux<1>*powerlaw<2> Source No.: 1   Active/On\n",
      "Model Model Component  Parameter  Unit     Value\n",
      " par  comp\n",
      "   1    1   cflux      Emin       keV      0.500000     frozen\n",
      "   2    1   cflux      Emax       keV      10.0000      frozen\n",
      "   3    1   cflux      lg10Flux   cgs      -12.0000     +/-  0.0          \n",
      "   4    2   powerlaw   PhoIndex            1.00000      +/-  0.0          \n",
      "   5    2   powerlaw   norm                1.00000      +/-  0.0          \n",
      "________________________________________________________________________\n",
      "\n",
      "\n",
      "Fit statistic  : Chi-Squared                     nan     using 8 bins.\n",
      "\n",
      "Test statistic : Chi-Squared                     nan     using 8 bins.\n",
      " Current data and model not fit yet.\n",
      "\n",
      "Fit statistic  : Chi-Squared                     nan     using 8 bins.\n",
      "\n",
      "Test statistic : Chi-Squared                     nan     using 8 bins.\n",
      " Current data and model not fit yet.\n",
      "\n",
      "Fit statistic  : Chi-Squared                    7.21     using 8 bins.\n",
      "\n",
      "Test statistic : Chi-Squared                    7.21     using 8 bins.\n",
      " Null hypothesis probability of 2.05e-01 with 5 degrees of freedom\n",
      " Current data and model not fit yet.\n",
      "\n",
      "Fit statistic  : Chi-Squared                    7.22     using 8 bins.\n",
      "\n",
      "Test statistic : Chi-Squared                    7.22     using 8 bins.\n",
      " Null hypothesis probability of 2.05e-01 with 5 degrees of freedom\n",
      " Current data and model not fit yet.\n",
      "  parameter 4 is not frozen.\n",
      "\n",
      "Fit statistic  : Chi-Squared                    7.22     using 8 bins.\n",
      "\n",
      "Test statistic : Chi-Squared                    7.22     using 8 bins.\n",
      " Null hypothesis probability of 2.05e-01 with 5 degrees of freedom\n",
      " Current data and model not fit yet.\n",
      "\n",
      "Fit statistic  : Chi-Squared                    7.22     using 8 bins.\n",
      "\n",
      "Test statistic : Chi-Squared                    7.22     using 8 bins.\n",
      " Null hypothesis probability of 3.01e-01 with 6 degrees of freedom\n",
      " Current data and model not fit yet.\n",
      "Default fit statistic is set to: C-Statistic\n",
      "   This will apply to all current and newly loaded spectra.\n",
      "\n",
      "Fit statistic  : C-Statistic                    4.12     using 8 bins.\n",
      "\n",
      "Warning: cstat statistic is only valid for Poisson data.\n",
      "    Source file is not Poisson for spectrum 1\n",
      "\n",
      "\n",
      "Test statistic : Chi-Squared                    7.22     using 8 bins.\n",
      " Null hypothesis probability of 3.01e-01 with 6 degrees of freedom\n",
      " Current data and model not fit yet.\n",
      " Warning: renorm - no variable model to allow  renormalization\n",
      "\n",
      "Fit statistic  : C-Statistic                    4.12     using 8 bins.\n",
      "\n",
      "Warning: cstat statistic is only valid for Poisson data.\n",
      "    Source file is not Poisson for spectrum 1\n",
      "\n",
      "\n",
      "Test statistic : Chi-Squared                    7.22     using 8 bins.\n",
      " Null hypothesis probability of 3.01e-01 with 6 degrees of freedom\n",
      " Current data and model not fit yet.\n",
      " Warning: renorm - no variable model to allow  renormalization\n",
      "                                   Parameters\n",
      "C-Statistic  |beta|/N    Lvl    3:lg10Flux    4:PhoIndex\n",
      "***Warning: Negative alpha-matrix diagonal element for parameter 3\n",
      "***Warning: Negative alpha-matrix diagonal element for parameter 4\n",
      " Parameter 3 is pegged at -12 due to zero or negative pivot element, likely\n",
      " caused by the fit being insensitive to the parameter.\n",
      " Parameter 4 is pegged at 2 due to zero or negative pivot element, likely\n",
      " caused by the fit being insensitive to the parameter.\n",
      "/Users/slaha/Desktop/BAT_projects/GIT_Repository_directory_Jan2022/survey_data/FRB180916_data/00013201005_surveyresult/PHA_files/FRB180916_survey_point_20200371529.pha\n"
     ]
    },
    {
     "name": "stderr",
     "output_type": "stream",
     "text": [
      "***Warning: POISSERR keyword is missing or of wrong format, assuming FALSE.\n",
      "\n",
      "***XSPEC Error:  No variable parameters for fit "
     ]
    },
    {
     "data": {
      "text/plain": [
       "'\\n # Capturing the Flux and its error. saved to the model object, can be obtained by calling model(1).error, model(2).error\\n            model_params=dict()\\n            for i in range(1,model.nParameters+1):\\n                xsp.Fit.error(\"2.706 %d\"%(i))\\n\\n            #get the name of the parameter\\n                par_name=model(i).name\\n                model_params[par_name]=dict(val=model(i).values[0], lolim=model(i).error[0], hilim=model(i).error[1], errflag=model(i).error[-1])\\n            surveyobservation.set_pointing_info(pointing_id,\"model_params\", model_params, source_id=source_id)\\n\\n    #Incorporating the model names, parameters, errors into the BatSurvey object.\\n            xsp.Xset.save(pha_file.split(\".\")[0])\\n            xspec_savefile=os.path.join(pha_dir, pha_file.split(\".\")[0]+\".xcm\")\\n            surveyobservation.set_pointing_info(pointing_id,\"xspec_model\",xspec_savefile,source_id=source_id)\\n\\n    #ba.calculate_detection(obs, source_name)\\n    \\n    \\n  '"
      ]
     },
     "execution_count": 3,
     "metadata": {},
     "output_type": "execute_result"
    }
   ],
   "source": [
    "source_name=\"J221951-48424\"\n",
    "source_id=\"J221951-48424\"\n",
    "for obs in batsurvey_obs:\n",
    "\n",
    "    print(\"Running calculate_PHA for observation id\", obs.pointing_ids)\n",
    "    \n",
    "    obs.merge_pointings()\n",
    "    obs.calculate_pha(id_list=source_id, clean_dir=True)\n",
    "    pha_list=obs.get_pha_filenames(id_list=source_name)\n",
    "    ba.calc_response(pha_list)\n",
    "    \n",
    "    for pha in pha_list: \n",
    "        try:\n",
    "            ba.fit_spectrum(pha, obs)\n",
    "            print(pha)\n",
    "        except Exception as Error_with_Xspec_fitting:\n",
    "            #If XSPEC cannot fit because of negative counts\n",
    "            print (Error_with_Xspec_fitting)\n",
    "            #the fitting wasnt not successful and the dictionary was not created but want to enter the upper limit if\n",
    "            #statement\n",
    "            fluxerr_lolim=0\n",
    "            flux=1\n",
    "            nsigma=1\n",
    "            avg_flux_err=1\n",
    "            \n",
    "            \n",
    " \n",
    "        "
   ]
  },
  {
   "cell_type": "code",
   "execution_count": 4,
   "id": "32ebb5cf",
   "metadata": {},
   "outputs": [],
   "source": [
    "#Loop over individual PHA pointings\n",
    "\n",
    "    \n",
    "    \n",
    "    \n",
    "    \n",
    "   \n",
    "     "
   ]
  },
  {
   "cell_type": "code",
   "execution_count": 5,
   "id": "67236cd1",
   "metadata": {},
   "outputs": [],
   "source": [
    "     \n",
    "#ba.print_parameters(batsurvey_obs,source_name, values=[\"met_time\",\"utc_time\", \"exposure\",\"lg10Flux\", \"PhoIndex\"],savetable=True,save_file=\"out.txt\")\n",
    "    \n",
    "\n"
   ]
  },
  {
   "cell_type": "code",
   "execution_count": 6,
   "id": "b230c2fb",
   "metadata": {},
   "outputs": [],
   "source": [
    "source_id=\"FRB180916\"\n",
    "\n",
    "ba.print_parameters(batsurvey_obs,source_id, values=[\"met_time\",\"utc_time\", \"exposure\",\"lg10Flux\", \"PhoIndex\"],savetable=True,save_file=\"/Users/slaha/Desktop/BAT_projects/GIT_Repository_directory_Jan2022/survey_data/notebooks/out.txt\")\n",
    "    \n",
    "\n"
   ]
  },
  {
   "cell_type": "code",
   "execution_count": 7,
   "id": "540a30b6",
   "metadata": {
    "scrolled": true
   },
   "outputs": [
    {
     "name": "stdout",
     "output_type": "stream",
     "text": [
      "['20200371529']\n",
      "{'met_time': 602695795.0, 'exposure': 1088.0, 'utc_time': numpy.datetime64('2020-02-06T15:29:30.610148809'), 'mjd_time': 58885.64549317302, 'FRB180916': {'model_params': {'Emin': {'val': nan, 'lolim': nan, 'hilim': nan, 'errflag': 'TTTTTTTTT'}, 'Emax': {'val': nan, 'lolim': nan, 'hilim': nan, 'errflag': 'TTTTTTTTT'}, 'lg10Flux': {'val': nan, 'lolim': nan, 'hilim': nan, 'errflag': 'TTTTTTTTT'}, 'PhoIndex': {'val': nan, 'lolim': nan, 'hilim': nan, 'errflag': 'TTTTTTTTT'}, 'norm': {'val': nan, 'lolim': nan, 'hilim': nan, 'errflag': 'TTTTTTTTT'}}, 'xspec_model': '/Users/slaha/Desktop/BAT_projects/GIT_Repository_directory_Jan2022/survey_data/FRB180916_data/00013201005_surveyresult/PHA_files/FRB180916_survey_point_20200371529.xcm'}}\n",
      "{'model_params': {'Emin': {'val': nan, 'lolim': nan, 'hilim': nan, 'errflag': 'TTTTTTTTT'}, 'Emax': {'val': nan, 'lolim': nan, 'hilim': nan, 'errflag': 'TTTTTTTTT'}, 'lg10Flux': {'val': nan, 'lolim': nan, 'hilim': nan, 'errflag': 'TTTTTTTTT'}, 'PhoIndex': {'val': nan, 'lolim': nan, 'hilim': nan, 'errflag': 'TTTTTTTTT'}, 'norm': {'val': nan, 'lolim': nan, 'hilim': nan, 'errflag': 'TTTTTTTTT'}}, 'xspec_model': '/Users/slaha/Desktop/BAT_projects/GIT_Repository_directory_Jan2022/survey_data/FRB180916_data/00013201005_surveyresult/PHA_files/FRB180916_survey_point_20200371529.xcm'}\n"
     ]
    }
   ],
   "source": [
    "pointing_ids=obs.get_pointing_ids()\n",
    "print(pointing_ids)\n",
    "\n",
    "pointing_dict=obs.get_pointing_info(pointing_ids[0])\n",
    "print(pointing_dict)\n",
    "\n",
    "source_dict=obs.get_pointing_info(pointing_ids[0], source_id=source_name)\n",
    "print(source_dict)"
   ]
  },
  {
   "cell_type": "code",
   "execution_count": 8,
   "id": "7e8f7227",
   "metadata": {},
   "outputs": [
    {
     "name": "stdout",
     "output_type": "stream",
     "text": [
      "{'met_time': 602695795.0, 'exposure': 1088.0, 'utc_time': numpy.datetime64('2020-02-06T15:29:30.610148809'), 'mjd_time': 58885.64549317302, 'FRB180916': {'model_params': {'Emin': {'val': nan, 'lolim': nan, 'hilim': nan, 'errflag': 'TTTTTTTTT'}, 'Emax': {'val': nan, 'lolim': nan, 'hilim': nan, 'errflag': 'TTTTTTTTT'}, 'lg10Flux': {'val': nan, 'lolim': nan, 'hilim': nan, 'errflag': 'TTTTTTTTT'}, 'PhoIndex': {'val': nan, 'lolim': nan, 'hilim': nan, 'errflag': 'TTTTTTTTT'}, 'norm': {'val': nan, 'lolim': nan, 'hilim': nan, 'errflag': 'TTTTTTTTT'}}, 'xspec_model': '/Users/slaha/Desktop/BAT_projects/GIT_Repository_directory_Jan2022/survey_data/FRB180916_data/00013201005_surveyresult/PHA_files/FRB180916_survey_point_20200371529.xcm'}}\n"
     ]
    }
   ],
   "source": [
    "print(batsurvey_obs[0].get_pointing_info(\"20200371529\"))"
   ]
  },
  {
   "cell_type": "code",
   "execution_count": 10,
   "id": "9bb7310a",
   "metadata": {},
   "outputs": [
    {
     "name": "stdout",
     "output_type": "stream",
     "text": [
      "{'met_time': 602695795.0, 'exposure': 1088.0, 'utc_time': numpy.datetime64('2020-02-06T15:29:30.610148809'), 'mjd_time': 58885.64549317302, 'FRB180916': {'model_params': {'Emin': {'val': nan, 'lolim': nan, 'hilim': nan, 'errflag': 'TTTTTTTTT'}, 'Emax': {'val': nan, 'lolim': nan, 'hilim': nan, 'errflag': 'TTTTTTTTT'}, 'lg10Flux': {'val': nan, 'lolim': nan, 'hilim': nan, 'errflag': 'TTTTTTTTT'}, 'PhoIndex': {'val': nan, 'lolim': nan, 'hilim': nan, 'errflag': 'TTTTTTTTT'}, 'norm': {'val': nan, 'lolim': nan, 'hilim': nan, 'errflag': 'TTTTTTTTT'}}, 'xspec_model': '/Users/slaha/Desktop/BAT_projects/GIT_Repository_directory_Jan2022/survey_data/FRB180916_data/00013201005_surveyresult/PHA_files/FRB180916_survey_point_20200371529.xcm'}}\n"
     ]
    }
   ],
   "source": [
    "print(batsurvey_obs[0].get_pointing_info(\"20200371529\"))"
   ]
  },
  {
   "cell_type": "code",
   "execution_count": 11,
   "id": "0f2ce7ad",
   "metadata": {},
   "outputs": [
    {
     "name": "stdout",
     "output_type": "stream",
     "text": [
      "The condition here is nan 3 nan nan\n",
      "No detection, just upperlimits for the spectrum: FRB180916_survey_point_20200371529.pha\n",
      "Creating PHA file for  FRB180916\n",
      "Time interval: [602695795.0] [602696883.0]\n",
      "\n",
      "1 spectrum  in use\n",
      " \n",
      "Spectral Data File: FRB180916_survey_point_20200371529_bkgnsigma_5_upperlim.pha  Spectrum 1\n",
      "Net count rate (cts/s) for Spectrum:1  4.223e-03 +/- 5.308e-04\n",
      " Assigned to Data Group 1 and Plot Group 1\n",
      "  Noticed Channels:  1-8\n",
      "  Telescope: SWIFT Instrument: BAT  Channel Type: PI\n",
      "  Exposure Time: 1088 sec\n",
      " Using fit statistic: cstat\n",
      " Using Response (RMF) File            FRB180916_survey_point_20200371529_bkgnsigma_5_upperlim.rsp for Source 1\n",
      "\n",
      "******************************************************\n",
      "Fitting the 5 times bkg of the spectrum  FRB180916_survey_point_20200371529_bkgnsigma_5_upperlim.pha\n",
      "******************************************************\n",
      "******************************************************\n",
      "******************************************************\n",
      "(3.8425486312036285e-09, 0.0, 0.0, 0.0349003344001206, 0.0, 0.0)\n"
     ]
    },
    {
     "name": "stderr",
     "output_type": "stream",
     "text": [
      "***Warning: POISSERR keyword is missing or of wrong format, assuming FALSE.\n"
     ]
    },
    {
     "data": {
      "text/plain": [
       "[]"
      ]
     },
     "execution_count": 11,
     "metadata": {},
     "output_type": "execute_result"
    },
    {
     "name": "stdout",
     "output_type": "stream",
     "text": [
      "\n",
      "Fit statistic  : C-Statistic                   63.89     using 8 bins.\n",
      "\n",
      "Warning: cstat statistic is only valid for Poisson data.\n",
      "    Source file is not Poisson for spectrum 1\n",
      "\n",
      "\n",
      "Test statistic : Chi-Squared                  238.70     using 8 bins.\n",
      " Null hypothesis probability of 1.06e-48 with 6 degrees of freedom\n",
      " Current data and model not fit yet.\n",
      "\n",
      "========================================================================\n",
      "Model powerlaw<1> Source No.: 1   Active/On\n",
      "Model Model Component  Parameter  Unit     Value\n",
      " par  comp\n",
      "   1    1   powerlaw   PhoIndex            1.00000      +/-  0.0          \n",
      "   2    1   powerlaw   norm                1.00000      +/-  0.0          \n",
      "________________________________________________________________________\n",
      "\n",
      "\n",
      "Fit statistic  : C-Statistic                  645.40     using 8 bins.\n",
      "\n",
      "Warning: cstat statistic is only valid for Poisson data.\n",
      "    Source file is not Poisson for spectrum 1\n",
      "\n",
      "\n",
      "Test statistic : Chi-Squared              1.891658e+06     using 8 bins.\n",
      " Null hypothesis probability of 0.000000e+00 with 6 degrees of freedom\n",
      " Current data and model not fit yet.\n",
      "\n",
      "Fit statistic  : C-Statistic                  645.40     using 8 bins.\n",
      "\n",
      "Warning: cstat statistic is only valid for Poisson data.\n",
      "    Source file is not Poisson for spectrum 1\n",
      "\n",
      "\n",
      "Test statistic : Chi-Squared              1.891658e+06     using 8 bins.\n",
      " Null hypothesis probability of 0.000000e+00 with 7 degrees of freedom\n",
      " Current data and model not fit yet.\n",
      "\n",
      "Fit statistic  : C-Statistic                  645.40     using 8 bins.\n",
      "\n",
      "Warning: cstat statistic is only valid for Poisson data.\n",
      "    Source file is not Poisson for spectrum 1\n",
      "\n",
      "\n",
      "Test statistic : Chi-Squared              1.891658e+06     using 8 bins.\n",
      " Null hypothesis probability of 0.000000e+00 with 7 degrees of freedom\n",
      " Current data and model not fit yet.\n",
      "\n",
      "Fit statistic  : C-Statistic                   16.03     using 8 bins.\n",
      "\n",
      "Warning: cstat statistic is only valid for Poisson data.\n",
      "    Source file is not Poisson for spectrum 1\n",
      "\n",
      "\n",
      "Test statistic : Chi-Squared                  199.22     using 8 bins.\n",
      " Null hypothesis probability of 1.68e-39 with 7 degrees of freedom\n",
      " Current data and model not fit yet.\n",
      "  parameter 2 is not frozen.\n",
      "                                   Parameters\n",
      "C-Statistic  |beta|/N    Lvl        2:norm\n",
      "0.782049     0            -3     0.0132502\n",
      "====================\n",
      " Variances and Principal Axes\n",
      "                 2  \n",
      " 3.8211E-05|  1.0000  \n",
      "--------------------\n",
      "\n",
      "============\n",
      "  Covariance Matrix\n",
      "        1   \n",
      "   3.821e-05\n",
      "------------\n",
      "\n",
      "========================================================================\n",
      "Model powerlaw<1> Source No.: 1   Active/On\n",
      "Model Model Component  Parameter  Unit     Value\n",
      " par  comp\n",
      "   1    1   powerlaw   PhoIndex            1.00000      frozen\n",
      "   2    1   powerlaw   norm                1.32502E-02  +/-  6.18147E-03  \n",
      "________________________________________________________________________\n",
      "\n",
      "\n",
      "Fit statistic  : C-Statistic                    0.78     using 8 bins.\n",
      "\n",
      "Warning: cstat statistic is only valid for Poisson data.\n",
      "    Source file is not Poisson for spectrum 1\n",
      "\n",
      "\n",
      "Test statistic : Chi-Squared                   26.97     using 8 bins.\n",
      " Null hypothesis probability of 3.38e-04 with 7 degrees of freedom\n",
      "\n",
      "Parameters defined:\n",
      "========================================================================\n",
      "Model powerlaw<1> Source No.: 1   Active/On\n",
      "Model Model Component  Parameter  Unit     Value\n",
      " par  comp\n",
      "   1    1   powerlaw   PhoIndex            1.00000      frozen\n",
      "   2    1   powerlaw   norm                1.32502E-02  +/-  6.18147E-03  \n",
      "________________________________________________________________________\n",
      "\n",
      "\n",
      "Fit statistic  : C-Statistic                    0.78     using 8 bins.\n",
      "\n",
      "Warning: cstat statistic is only valid for Poisson data.\n",
      "    Source file is not Poisson for spectrum 1\n",
      "\n",
      "\n",
      "Test statistic : Chi-Squared                   26.97     using 8 bins.\n",
      " Null hypothesis probability of 3.38e-04 with 7 degrees of freedom\n",
      " Model Flux    0.0349 photons (3.8425e-09 ergs/cm^2/s) range (14.000 - 195.00 keV)\n"
     ]
    }
   ],
   "source": [
    "ba.calculate_detection(obs, source_name)\n"
   ]
  },
  {
   "cell_type": "code",
   "execution_count": 12,
   "id": "b38ab555",
   "metadata": {},
   "outputs": [
    {
     "name": "stdout",
     "output_type": "stream",
     "text": [
      "Obs ID  \t Pointing ID\t\tmet_time\tutc_time\texposure\tlg10Flux\tPhoIndex\n",
      "00013201005\t20200371529\t602695795.0\t2020-02-06T15:29:30.610148809\t1088.0\t  3.842549e-09  \tnan-nan\\+nan\n",
      "           \n"
     ]
    }
   ],
   "source": [
    "ba.print_parameters(obs,source_id, values=[\"met_time\",\"utc_time\", \"exposure\",\"lg10Flux\", \"PhoIndex\"],savetable=False,save_file=\"/Users/slaha/Desktop/BAT_projects/GIT_Repository_directory_Jan2022/survey_data/notebooks/out.txt\")\n",
    "    \n",
    "\n"
   ]
  },
  {
   "cell_type": "code",
   "execution_count": 13,
   "id": "33e64a6b",
   "metadata": {},
   "outputs": [
    {
     "name": "stdout",
     "output_type": "stream",
     "text": [
      "{'channel': [1, 2, 3, 4, 5, 6, 7, 8], 'emin': [14.0, 20.0, 24.0, 35.0, 50.0, 75.0, 100.0, 150.0], 'emax': [20.0, 24.0, 35.0, 50.0, 75.0, 100.0, 150.0, 195.0], 'syserr': [0.6, 0.3, 0.15, 0.15, 0.15, 0.15, 0.15, 0.6], 'pha_file_names_list': ['/Users/slaha/Desktop/BAT_projects/GIT_Repository_directory_Jan2022/survey_data/FRB180916_data/00013201005_surveyresult/PHA_files/FRB180916_survey_point_20200371529.pha', '/Users/slaha/Desktop/BAT_projects/GIT_Repository_directory_Jan2022/survey_data/FRB180916_data/00013201005_surveyresult/PHA_files/FRB180916_survey_point_20200371529_bkgnsigma_5_upperlim.pha'], 'obs_id': '00013201005', 'obs_dir': '/Users/slaha/Desktop/BAT_projects/GIT_Repository_directory_Jan2022/survey_data/FRB180916_data/00013201005', 'survey_input': {'indir': '/Users/slaha/Desktop/BAT_projects/GIT_Repository_directory_Jan2022/survey_data/FRB180916_data/00013201005', 'outdir': '/Users/slaha/Desktop/BAT_projects/GIT_Repository_directory_Jan2022/survey_data/FRB180916_data/00013201005_surveyresult', 'incatalog': '/Users/slaha/Desktop/BAT_projects/GIT_Repository_directory_Jan2022/survey_data/batanalysis/data/survey6b_2.cat', 'detthresh': '10000', 'detthresh2': '10000', 'clobber': 'YES'}, 'result_dir': '/Users/slaha/Desktop/BAT_projects/GIT_Repository_directory_Jan2022/survey_data/FRB180916_data/00013201005_surveyresult', 'batsurvey_result': <heasoftpy.core.result.Result object at 0x7f9171842a90>, 'pointing_flux_files': ['/Users/slaha/Desktop/BAT_projects/GIT_Repository_directory_Jan2022/survey_data/FRB180916_data/00013201005_surveyresult/point_20200371529/point_20200371529_2.cat'], 'pointing_ids': ['20200371529'], 'pointing_info': {'20200371529': {'met_time': 602695795.0, 'exposure': 1088.0, 'utc_time': numpy.datetime64('2020-02-06T15:29:30.610148809'), 'mjd_time': 58885.64549317302, 'FRB180916': {'model_params': {'Emin': {'val': nan, 'lolim': nan, 'hilim': nan, 'errflag': 'TTTTTTTTT'}, 'Emax': {'val': nan, 'lolim': nan, 'hilim': nan, 'errflag': 'TTTTTTTTT'}, 'lg10Flux': {'val': nan, 'lolim': nan, 'hilim': nan, 'errflag': 'TTTTTTTTT'}, 'PhoIndex': {'val': nan, 'lolim': nan, 'hilim': nan, 'errflag': 'TTTTTTTTT'}, 'norm': {'val': nan, 'lolim': nan, 'hilim': nan, 'errflag': 'TTTTTTTTT'}}, 'xspec_model': '/Users/slaha/Desktop/BAT_projects/GIT_Repository_directory_Jan2022/survey_data/FRB180916_data/00013201005_surveyresult/PHA_files/FRB180916_survey_point_20200371529.xcm', 'nsigma_lg10flux_upperlim': 3.8425486312036285e-09}}}, 'merge_input': {'keycolumn': 'NAME', 'infile': '/Users/slaha/Desktop/BAT_projects/GIT_Repository_directory_Jan2022/survey_data/FRB180916_data/00013201005_surveyresult/point_20200371529/point_20200371529_2.cat', 'outfile': '/Users/slaha/Desktop/BAT_projects/GIT_Repository_directory_Jan2022/survey_data/FRB180916_data/00013201005_surveyresult/merged_pointings_lc/%s.cat'}}\n"
     ]
    }
   ],
   "source": [
    "print(obs.__dict__)"
   ]
  },
  {
   "cell_type": "code",
   "execution_count": null,
   "id": "105986b6",
   "metadata": {},
   "outputs": [],
   "source": []
  }
 ],
 "metadata": {
  "kernelspec": {
   "display_name": "Python 3 (ipykernel)",
   "language": "python",
   "name": "python3"
  },
  "language_info": {
   "codemirror_mode": {
    "name": "ipython",
    "version": 3
   },
   "file_extension": ".py",
   "mimetype": "text/x-python",
   "name": "python",
   "nbconvert_exporter": "python",
   "pygments_lexer": "ipython3",
   "version": "3.9.12"
  }
 },
 "nbformat": 4,
 "nbformat_minor": 5
}
