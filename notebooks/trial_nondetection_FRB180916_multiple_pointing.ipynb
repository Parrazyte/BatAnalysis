{
 "cells": [
  {
   "cell_type": "markdown",
   "id": "3d35fe57",
   "metadata": {},
   "source": [
    "# The BatAnalysis Survey Data Analysis Code\n",
    "\n",
    "### This notebook will go through how the BatAnalysis code can be used to analyze BAT survey data."
   ]
  },
  {
   "cell_type": "code",
   "execution_count": 1,
   "id": "f9b7885a",
   "metadata": {},
   "outputs": [
    {
     "name": "stdout",
     "output_type": "stream",
     "text": [
      "\n"
     ]
    },
    {
     "name": "stderr",
     "output_type": "stream",
     "text": [
      "***Warning: You do not have an up-to-date version of Xspec.init\n",
      "      in your ~/.xspec directory.  It is recommended that you move\n",
      "      your old Xspec.init aside and start up XSPEC again.  This will\n",
      "      place a new version Xspec.init in your directory, which you may\n",
      "      then modify using your old settings.\n"
     ]
    },
    {
     "data": {
      "application/vnd.jupyter.widget-view+json": {
       "model_id": "3ab05c31221a47d5901201c92edc02c1",
       "version_major": 2,
       "version_minor": 0
      },
      "text/plain": [
       "Downloading files:   0%|          | 0/22 [00:00<?, ?files/s]"
      ]
     },
     "metadata": {},
     "output_type": "display_data"
    },
    {
     "name": "stdout",
     "output_type": "stream",
     "text": [
      "WARNING: SWIFT_TLE_ARCHIVE.txt.20042.72607368.gz exists and not overwritten (set clobber=True to override this).\n",
      "WARNING: sw00013201002pat.fits.gz exists and not overwritten (set clobber=True to override this).\n",
      "WARNING: sw00013201002pjb.par.gz exists and not overwritten (set clobber=True to override this).\n",
      "WARNING: sw00013201002pob.cat.gz exists and not overwritten (set clobber=True to override this).\n",
      "WARNING: sw00013201002ppr.par.gz exists and not overwritten (set clobber=True to override this).\n",
      "WARNING: sw00013201002s.mkf.gz exists and not overwritten (set clobber=True to override this).\n",
      "WARNING: sw00013201002sao.fits.gz exists and not overwritten (set clobber=True to override this).\n",
      "WARNING: sw00013201002sat.fits.gz exists and not overwritten (set clobber=True to override this).\n",
      "WARNING: sw00013201002sen.hk.gz exists and not overwritten (set clobber=True to override this).\n",
      "WARNING: sw00013201002sti.fits.gz exists and not overwritten (set clobber=True to override this).\n",
      "WARNING: sw00013201002uat.fits.gz exists and not overwritten (set clobber=True to override this).\n",
      "WARNING: sw00013201002x.mkf.gz exists and not overwritten (set clobber=True to override this).\n",
      "WARNING: sw00013201002bdecb.hk.gz exists and not overwritten (set clobber=True to override this).\n",
      "WARNING: sw00013201002bdp.hk.gz exists and not overwritten (set clobber=True to override this).\n",
      "WARNING: sw00013201002ben.hk.gz exists and not overwritten (set clobber=True to override this).\n",
      "WARNING: sw00013201002bgocb.hk.gz exists and not overwritten (set clobber=True to override this).\n",
      "WARNING: sw00013201002bhd.hk.gz exists and not overwritten (set clobber=True to override this).\n",
      "WARNING: sw00013201002brt1s.lc.gz exists and not overwritten (set clobber=True to override this).\n",
      "WARNING: sw00013201002brtmc.lc.gz exists and not overwritten (set clobber=True to override this).\n",
      "WARNING: sw00013201002brtms.lc.gz exists and not overwritten (set clobber=True to override this).\n",
      "WARNING: sw00013201002brtqd.lc.gz exists and not overwritten (set clobber=True to override this).\n",
      "WARNING: sw00013201002bsvpboffffgffff.dph.gz exists and not overwritten (set clobber=True to override this).\n"
     ]
    },
    {
     "data": {
      "application/vnd.jupyter.widget-view+json": {
       "model_id": "cd2be81c1b5c435fa0e88ecdd3daeadd",
       "version_major": 2,
       "version_minor": 0
      },
      "text/plain": [
       "Downloading files:   0%|          | 0/30 [00:00<?, ?files/s]"
      ]
     },
     "metadata": {},
     "output_type": "display_data"
    },
    {
     "name": "stdout",
     "output_type": "stream",
     "text": [
      "WARNING: SWIFT_TLE_ARCHIVE.txt.20043.58811381.gz exists and not overwritten (set clobber=True to override this).\n",
      "WARNING: sw00013201003pat.fits.gz exists and not overwritten (set clobber=True to override this).\n",
      "WARNING: sw00013201003pjb.par.gz exists and not overwritten (set clobber=True to override this).\n",
      "WARNING: sw00013201003pob.cat.gz exists and not overwritten (set clobber=True to override this).\n",
      "WARNING: sw00013201003ppr.par.gz exists and not overwritten (set clobber=True to override this).\n",
      "WARNING: sw00013201003s.mkf.gz exists and not overwritten (set clobber=True to override this).\n",
      "WARNING: sw00013201003sao.fits.gz exists and not overwritten (set clobber=True to override this).\n",
      "WARNING: sw00013201003sat.fits.gz exists and not overwritten (set clobber=True to override this).\n",
      "WARNING: sw00013201003sen.hk.gz exists and not overwritten (set clobber=True to override this).\n",
      "WARNING: sw00013201003sti.fits.gz exists and not overwritten (set clobber=True to override this).\n",
      "WARNING: sw00013201003uat.fits.gz exists and not overwritten (set clobber=True to override this).\n",
      "WARNING: sw00013201003x.mkf.gz exists and not overwritten (set clobber=True to override this).\n",
      "WARNING: sw00013201003bdecb.hk.gz exists and not overwritten (set clobber=True to override this).\n",
      "WARNING: sw00013201003bdp.hk.gz exists and not overwritten (set clobber=True to override this).\n",
      "WARNING: sw00013201003ben.hk.gz exists and not overwritten (set clobber=True to override this).\n",
      "WARNING: sw00013201003bgocb.hk.gz exists and not overwritten (set clobber=True to override this).\n",
      "WARNING: sw00013201003bhd.hk.gz exists and not overwritten (set clobber=True to override this).\n",
      "WARNING: sw00013201003bmt00010009.lc.gz exists and not overwritten (set clobber=True to override this).\n",
      "WARNING: sw00013201003bmt00010009_rw.lc.gz exists and not overwritten (set clobber=True to override this).\n",
      "WARNING: sw00013201003bmt00010500.lc.gz exists and not overwritten (set clobber=True to override this).\n",
      "WARNING: sw00013201003bmt00010500_rw.lc.gz exists and not overwritten (set clobber=True to override this).\n",
      "WARNING: sw00013201003bmt00022791.lc.gz exists and not overwritten (set clobber=True to override this).\n",
      "WARNING: sw00013201003bmt00022791_rw.lc.gz exists and not overwritten (set clobber=True to override this).\n",
      "WARNING: sw00013201003brt1s.lc.gz exists and not overwritten (set clobber=True to override this).\n",
      "WARNING: sw00013201003brtmc.lc.gz exists and not overwritten (set clobber=True to override this).\n",
      "WARNING: sw00013201003brtms.lc.gz exists and not overwritten (set clobber=True to override this).\n",
      "WARNING: sw00013201003brtqd.lc.gz exists and not overwritten (set clobber=True to override this).\n",
      "WARNING: sw00013201003bsvtoo0002g0002e20.dph.gz exists and not overwritten (set clobber=True to override this).\n",
      "WARNING: sw00013201003bsvtoo0002g0003e20.dph.gz exists and not overwritten (set clobber=True to override this).\n",
      "WARNING: sw00013201003bsvtoo0004g0005e20.dph.gz exists and not overwritten (set clobber=True to override this).\n"
     ]
    },
    {
     "data": {
      "application/vnd.jupyter.widget-view+json": {
       "model_id": "4abc6fcb2e3146ca882da2ffdf0ab60e",
       "version_major": 2,
       "version_minor": 0
      },
      "text/plain": [
       "Downloading files:   0%|          | 0/28 [00:00<?, ?files/s]"
      ]
     },
     "metadata": {},
     "output_type": "display_data"
    },
    {
     "name": "stdout",
     "output_type": "stream",
     "text": [
      "WARNING: SWIFT_TLE_ARCHIVE.txt.20044.71539772.gz exists and not overwritten (set clobber=True to override this).\n",
      "WARNING: sw00013201004pat.fits.gz exists and not overwritten (set clobber=True to override this).\n",
      "WARNING: sw00013201004pjb.par.gz exists and not overwritten (set clobber=True to override this).\n",
      "WARNING: sw00013201004pob.cat.gz exists and not overwritten (set clobber=True to override this).\n",
      "WARNING: sw00013201004ppr.par.gz exists and not overwritten (set clobber=True to override this).\n",
      "WARNING: sw00013201004s.mkf.gz exists and not overwritten (set clobber=True to override this).\n",
      "WARNING: sw00013201004sao.fits.gz exists and not overwritten (set clobber=True to override this).\n",
      "WARNING: sw00013201004sat.fits.gz exists and not overwritten (set clobber=True to override this).\n",
      "WARNING: sw00013201004sen.hk.gz exists and not overwritten (set clobber=True to override this).\n",
      "WARNING: sw00013201004sti.fits.gz exists and not overwritten (set clobber=True to override this).\n",
      "WARNING: sw00013201004uat.fits.gz exists and not overwritten (set clobber=True to override this).\n",
      "WARNING: sw00013201004x.mkf.gz exists and not overwritten (set clobber=True to override this).\n",
      "WARNING: sw00013201004bdecb.hk.gz exists and not overwritten (set clobber=True to override this).\n",
      "WARNING: sw00013201004bdp.hk.gz exists and not overwritten (set clobber=True to override this).\n",
      "WARNING: sw00013201004ben.hk.gz exists and not overwritten (set clobber=True to override this).\n",
      "WARNING: sw00013201004bgocb.hk.gz exists and not overwritten (set clobber=True to override this).\n",
      "WARNING: sw00013201004bhd.hk.gz exists and not overwritten (set clobber=True to override this).\n",
      "WARNING: sw00013201004bmt00010009.lc.gz exists and not overwritten (set clobber=True to override this).\n",
      "WARNING: sw00013201004bmt00010009_rw.lc.gz exists and not overwritten (set clobber=True to override this).\n",
      "WARNING: sw00013201004bmt00010500.lc.gz exists and not overwritten (set clobber=True to override this).\n",
      "WARNING: sw00013201004bmt00010500_rw.lc.gz exists and not overwritten (set clobber=True to override this).\n",
      "WARNING: sw00013201004bmt00022791.lc.gz exists and not overwritten (set clobber=True to override this).\n",
      "WARNING: sw00013201004bmt00022791_rw.lc.gz exists and not overwritten (set clobber=True to override this).\n",
      "WARNING: sw00013201004brt1s.lc.gz exists and not overwritten (set clobber=True to override this).\n",
      "WARNING: sw00013201004brtmc.lc.gz exists and not overwritten (set clobber=True to override this).\n",
      "WARNING: sw00013201004brtms.lc.gz exists and not overwritten (set clobber=True to override this).\n",
      "WARNING: sw00013201004brtqd.lc.gz exists and not overwritten (set clobber=True to override this).\n",
      "WARNING: sw00013201004bsvtoo0029g0014e20.dph.gz exists and not overwritten (set clobber=True to override this).\n"
     ]
    },
    {
     "data": {
      "application/vnd.jupyter.widget-view+json": {
       "model_id": "c7ead8a3c5e94d049b3e29cec63a161a",
       "version_major": 2,
       "version_minor": 0
      },
      "text/plain": [
       "Downloading files:   0%|          | 0/27 [00:00<?, ?files/s]"
      ]
     },
     "metadata": {},
     "output_type": "display_data"
    },
    {
     "name": "stdout",
     "output_type": "stream",
     "text": [
      "WARNING: SWIFT_TLE_ARCHIVE.txt.20044.71539772.gz exists and not overwritten (set clobber=True to override this).\n",
      "WARNING: sw00013201005pat.fits.gz exists and not overwritten (set clobber=True to override this).\n",
      "WARNING: sw00013201005pjb.par.gz exists and not overwritten (set clobber=True to override this).\n",
      "WARNING: sw00013201005pob.cat.gz exists and not overwritten (set clobber=True to override this).\n",
      "WARNING: sw00013201005ppr.par.gz exists and not overwritten (set clobber=True to override this).\n",
      "WARNING: sw00013201005s.mkf.gz exists and not overwritten (set clobber=True to override this).\n",
      "WARNING: sw00013201005sao.fits.gz exists and not overwritten (set clobber=True to override this).\n",
      "WARNING: sw00013201005sat.fits.gz exists and not overwritten (set clobber=True to override this).\n",
      "WARNING: sw00013201005sen.hk.gz exists and not overwritten (set clobber=True to override this).\n",
      "WARNING: sw00013201005sti.fits.gz exists and not overwritten (set clobber=True to override this).\n",
      "WARNING: sw00013201005uat.fits.gz exists and not overwritten (set clobber=True to override this).\n",
      "WARNING: sw00013201005x.mkf.gz exists and not overwritten (set clobber=True to override this).\n",
      "WARNING: sw00013201005bdecb.hk.gz exists and not overwritten (set clobber=True to override this).\n",
      "WARNING: sw00013201005bdp.hk.gz exists and not overwritten (set clobber=True to override this).\n",
      "WARNING: sw00013201005ben.hk.gz exists and not overwritten (set clobber=True to override this).\n",
      "WARNING: sw00013201005bgocb.hk.gz exists and not overwritten (set clobber=True to override this).\n",
      "WARNING: sw00013201005bhd.hk.gz exists and not overwritten (set clobber=True to override this).\n",
      "WARNING: sw00013201005bmt00010009.lc.gz exists and not overwritten (set clobber=True to override this).\n",
      "WARNING: sw00013201005bmt00010009_rw.lc.gz exists and not overwritten (set clobber=True to override this).\n",
      "WARNING: sw00013201005bmt00010500.lc.gz exists and not overwritten (set clobber=True to override this).\n",
      "WARNING: sw00013201005bmt00010500_rw.lc.gz exists and not overwritten (set clobber=True to override this).\n",
      "WARNING: sw00013201005brt1s.lc.gz exists and not overwritten (set clobber=True to override this).\n",
      "WARNING: sw00013201005brtmc.lc.gz exists and not overwritten (set clobber=True to override this).\n",
      "WARNING: sw00013201005brtms.lc.gz exists and not overwritten (set clobber=True to override this).\n",
      "WARNING: sw00013201005brtqd.lc.gz exists and not overwritten (set clobber=True to override this).\n",
      "WARNING: sw00013201005bsvpbo004ag001b.dph.gz exists and not overwritten (set clobber=True to override this).\n",
      "WARNING: sw00013201005bsvpbo004cg001b.dph.gz exists and not overwritten (set clobber=True to override this).\n"
     ]
    },
    {
     "data": {
      "application/vnd.jupyter.widget-view+json": {
       "model_id": "86cd3528640b4e88976f564aef2c8b0f",
       "version_major": 2,
       "version_minor": 0
      },
      "text/plain": [
       "Downloading files:   0%|          | 0/31 [00:00<?, ?files/s]"
      ]
     },
     "metadata": {},
     "output_type": "display_data"
    },
    {
     "name": "stdout",
     "output_type": "stream",
     "text": [
      "WARNING: SWIFT_TLE_ARCHIVE.txt.20044.71539772.gz exists and not overwritten (set clobber=True to override this).\n",
      "WARNING: sw00013201006pat.fits.gz exists and not overwritten (set clobber=True to override this).\n",
      "WARNING: sw00013201006pjb.par.gz exists and not overwritten (set clobber=True to override this).\n",
      "WARNING: sw00013201006pob.cat.gz exists and not overwritten (set clobber=True to override this).\n",
      "WARNING: sw00013201006ppr.par.gz exists and not overwritten (set clobber=True to override this).\n",
      "WARNING: sw00013201006s.mkf.gz exists and not overwritten (set clobber=True to override this).\n",
      "WARNING: sw00013201006sao.fits.gz exists and not overwritten (set clobber=True to override this).\n",
      "WARNING: sw00013201006sat.fits.gz exists and not overwritten (set clobber=True to override this).\n",
      "WARNING: sw00013201006sen.hk.gz exists and not overwritten (set clobber=True to override this).\n",
      "WARNING: sw00013201006sti.fits.gz exists and not overwritten (set clobber=True to override this).\n",
      "WARNING: sw00013201006uat.fits.gz exists and not overwritten (set clobber=True to override this).\n",
      "WARNING: sw00013201006x.mkf.gz exists and not overwritten (set clobber=True to override this).\n",
      "WARNING: sw00013201006bevshpo_uf.evt.gz exists and not overwritten (set clobber=True to override this).\n",
      "WARNING: sw00013201006bdecb.hk.gz exists and not overwritten (set clobber=True to override this).\n",
      "WARNING: sw00013201006bdp.hk.gz exists and not overwritten (set clobber=True to override this).\n",
      "WARNING: sw00013201006bdqcb.hk.gz exists and not overwritten (set clobber=True to override this).\n",
      "WARNING: sw00013201006ben.hk.gz exists and not overwritten (set clobber=True to override this).\n",
      "WARNING: sw00013201006bevtlsp.hk.gz exists and not overwritten (set clobber=True to override this).\n",
      "WARNING: sw00013201006bevtssp.hk.gz exists and not overwritten (set clobber=True to override this).\n",
      "WARNING: sw00013201006bgocb.hk.gz exists and not overwritten (set clobber=True to override this).\n",
      "WARNING: sw00013201006bhd.hk.gz exists and not overwritten (set clobber=True to override this).\n",
      "WARNING: sw00013201006bmt00010009.lc.gz exists and not overwritten (set clobber=True to override this).\n",
      "WARNING: sw00013201006bmt00010009_rw.lc.gz exists and not overwritten (set clobber=True to override this).\n",
      "WARNING: sw00013201006bmt00010500.lc.gz exists and not overwritten (set clobber=True to override this).\n",
      "WARNING: sw00013201006bmt00010500_rw.lc.gz exists and not overwritten (set clobber=True to override this).\n",
      "WARNING: sw00013201006brt1s.lc.gz exists and not overwritten (set clobber=True to override this).\n",
      "WARNING: sw00013201006brtmc.lc.gz exists and not overwritten (set clobber=True to override this).\n",
      "WARNING: sw00013201006brtms.lc.gz exists and not overwritten (set clobber=True to override this).\n",
      "WARNING: sw00013201006brtqd.lc.gz exists and not overwritten (set clobber=True to override this).\n",
      "WARNING: sw00013201006bsvpbo006ag0022.dph.gz exists and not overwritten (set clobber=True to override this).\n",
      "WARNING: sw00013201006bsvpbo006cg0022.dph.gz exists and not overwritten (set clobber=True to override this).\n"
     ]
    },
    {
     "data": {
      "text/plain": [
       "{'00013201002': {'success': True,\n",
       "  'obsoutdir': PosixPath('/Users/slaha/Desktop/BAT_projects/GIT_Repository_directory_Jan2022/survey_data/FRB180916_data/00013201002'),\n",
       "  'quicklook': False,\n",
       "  'data': Swift_Data(username='anonymous',obsid='00013201002',quicklook='False',auxil='True',bat='True',xrt='False',uvot='False',log='False')},\n",
       " '00013201003': {'success': True,\n",
       "  'obsoutdir': PosixPath('/Users/slaha/Desktop/BAT_projects/GIT_Repository_directory_Jan2022/survey_data/FRB180916_data/00013201003'),\n",
       "  'quicklook': False,\n",
       "  'data': Swift_Data(username='anonymous',obsid='00013201003',quicklook='False',auxil='True',bat='True',xrt='False',uvot='False',log='False')},\n",
       " '00013201004': {'success': True,\n",
       "  'obsoutdir': PosixPath('/Users/slaha/Desktop/BAT_projects/GIT_Repository_directory_Jan2022/survey_data/FRB180916_data/00013201004'),\n",
       "  'quicklook': False,\n",
       "  'data': Swift_Data(username='anonymous',obsid='00013201004',quicklook='False',auxil='True',bat='True',xrt='False',uvot='False',log='False')},\n",
       " '00013201005': {'success': True,\n",
       "  'obsoutdir': PosixPath('/Users/slaha/Desktop/BAT_projects/GIT_Repository_directory_Jan2022/survey_data/FRB180916_data/00013201005'),\n",
       "  'quicklook': False,\n",
       "  'data': Swift_Data(username='anonymous',obsid='00013201005',quicklook='False',auxil='True',bat='True',xrt='False',uvot='False',log='False')},\n",
       " '00013201006': {'success': True,\n",
       "  'obsoutdir': PosixPath('/Users/slaha/Desktop/BAT_projects/GIT_Repository_directory_Jan2022/survey_data/FRB180916_data/00013201006'),\n",
       "  'quicklook': False,\n",
       "  'data': Swift_Data(username='anonymous',obsid='00013201006',quicklook='False',auxil='True',bat='True',xrt='False',uvot='False',log='False')}}"
      ]
     },
     "execution_count": 1,
     "metadata": {},
     "output_type": "execute_result"
    }
   ],
   "source": [
    "import batanalysis as ba\n",
    "import matplotlib.pyplot as plt\n",
    "%matplotlib notebook\n",
    "import os\n",
    "os.environ['HEADASNOQUERY']='1' #This line is for dealing with heasoftpy outputs in jupyter notebooks\n",
    "\n",
    "import numpy as np\n",
    "\n",
    "#we will be querying from HEASARC so we will import this from astroquery\n",
    "from astroquery.heasarc import Heasarc\n",
    "heasarc=Heasarc()\n",
    "\n",
    "\n",
    "##############.   Downloading the data at our preferred location...\n",
    "\n",
    "object_name='FRB180916.J0158+65'\n",
    "mission = 'swiftmastr'\n",
    "table = heasarc.query_object(object_name, mission=mission, sortvar=\"START_TIME\")\n",
    "#table.pprint_all()\n",
    "#print(table[:5])\n",
    "ba.download_swiftdata(table[:5], save_dir=\"/Users/slaha/Desktop/BAT_projects/GIT_Repository_directory_Jan2022/survey_data/FRB180916_data\") \n",
    "#Or esle it will save it in some place else: ~/.swift/swift_data_dir/\n",
    "\n",
    "\n"
   ]
  },
  {
   "cell_type": "code",
   "execution_count": 2,
   "id": "26d82eb4",
   "metadata": {
    "scrolled": true
   },
   "outputs": [
    {
     "name": "stdout",
     "output_type": "stream",
     "text": [
      "00013201005\n",
      "A save file has been written to /Users/slaha/Desktop/BAT_projects/GIT_Repository_directory_Jan2022/survey_data/FRB180916_data/00013201005_surveyresult/batsurvey.pickle.\n"
     ]
    }
   ],
   "source": [
    "\n",
    "################.  BAT Survey\n",
    "batsurvey_obs=[]\n",
    "input_dict=dict(obs_dir=\"/Users/slaha/Desktop/BAT_projects/GIT_Repository_directory_Jan2022/survey_data/FRB180916_data\")       #Creating a dictionary to set up the input and output directories and the files\n",
    "\n",
    "#FRB180916_dir=\"/Users/slaha/Desktop/BAT_projects/GIT_Repository_directory_Jan2022/survey_data/FRB180916_data\"\n",
    "\n",
    "for i in table[\"OBSID\"][3:4]:\n",
    "\n",
    "    print(i)\n",
    "    try:\n",
    "        \n",
    "        obs=ba.BatSurvey(str(i),recalc=True,obs_dir=\"/Users/slaha/Desktop/BAT_projects/GIT_Repository_directory_Jan2022/survey_data/FRB180916_data/\")\n",
    "    \n",
    "        obs.save()\n",
    "        batsurvey_obs.append(obs)\n",
    "    except ValueError:\n",
    "        print(\"Obsid has no survey data\")\n",
    "\n",
    "\n"
   ]
  },
  {
   "cell_type": "code",
   "execution_count": 3,
   "id": "76a10ee8",
   "metadata": {},
   "outputs": [
    {
     "name": "stdout",
     "output_type": "stream",
     "text": [
      "Running calculate_PHA for observation id ['20200371529']\n",
      "batsurvey-catmux v0.1\n",
      "----------------------------------------------------------\n",
      "Creating PHA file for  FRB180916\n",
      "Time interval: [602695795.0] [602696883.0]\n",
      "\n",
      "1 spectrum  in use\n",
      " \n",
      "Spectral Data File: /Users/slaha/Desktop/BAT_projects/GIT_Repository_directory_Jan2022/survey_data/FRB180916_data/00013201005_surveyresult/PHA_files/FRB180916_survey_point_20200371529.pha  Spectrum 1\n",
      "Net count rate (cts/s) for Spectrum:1  -2.134e-04 +/- 3.770e-04\n",
      " Assigned to Data Group 1 and Plot Group 1\n",
      "  Noticed Channels:  1-8\n",
      "  Telescope: SWIFT Instrument: BAT  Channel Type: PI\n",
      "  Exposure Time: 1088 sec\n",
      " Using fit statistic: chi\n",
      "Error executing command: fit\n",
      " Using Response (RMF) File            FRB180916_survey_point_20200371529.rsp for Source 1\n",
      "\n",
      "\n",
      "========================================================================\n",
      "Model cflux<1>*powerlaw<2> Source No.: 1   Active/On\n",
      "Model Model Component  Parameter  Unit     Value\n",
      " par  comp\n",
      "   1    1   cflux      Emin       keV      0.500000     frozen\n",
      "   2    1   cflux      Emax       keV      10.0000      frozen\n",
      "   3    1   cflux      lg10Flux   cgs      -12.0000     +/-  0.0          \n",
      "   4    2   powerlaw   PhoIndex            1.00000      +/-  0.0          \n",
      "   5    2   powerlaw   norm                1.00000      +/-  0.0          \n",
      "________________________________________________________________________\n",
      "\n",
      "\n",
      "Fit statistic  : Chi-Squared                     nan     using 8 bins.\n",
      "\n",
      "Test statistic : Chi-Squared                     nan     using 8 bins.\n",
      " Current data and model not fit yet.\n",
      "\n",
      "Fit statistic  : Chi-Squared                     nan     using 8 bins.\n",
      "\n",
      "Test statistic : Chi-Squared                     nan     using 8 bins.\n",
      " Current data and model not fit yet.\n",
      "\n",
      "Fit statistic  : Chi-Squared                    7.21     using 8 bins.\n",
      "\n",
      "Test statistic : Chi-Squared                    7.21     using 8 bins.\n",
      " Null hypothesis probability of 2.05e-01 with 5 degrees of freedom\n",
      " Current data and model not fit yet.\n",
      "\n",
      "Fit statistic  : Chi-Squared                    7.22     using 8 bins.\n",
      "\n",
      "Test statistic : Chi-Squared                    7.22     using 8 bins.\n",
      " Null hypothesis probability of 2.05e-01 with 5 degrees of freedom\n",
      " Current data and model not fit yet.\n",
      "  parameter 4 is not frozen.\n",
      "\n",
      "Fit statistic  : Chi-Squared                    7.22     using 8 bins.\n",
      "\n",
      "Test statistic : Chi-Squared                    7.22     using 8 bins.\n",
      " Null hypothesis probability of 2.05e-01 with 5 degrees of freedom\n",
      " Current data and model not fit yet.\n",
      "\n",
      "Fit statistic  : Chi-Squared                    7.22     using 8 bins.\n",
      "\n",
      "Test statistic : Chi-Squared                    7.22     using 8 bins.\n",
      " Null hypothesis probability of 3.01e-01 with 6 degrees of freedom\n",
      " Current data and model not fit yet.\n",
      "Default fit statistic is set to: C-Statistic\n",
      "   This will apply to all current and newly loaded spectra.\n",
      "\n",
      "Fit statistic  : C-Statistic                    4.12     using 8 bins.\n",
      "\n",
      "Warning: cstat statistic is only valid for Poisson data.\n",
      "    Source file is not Poisson for spectrum 1\n",
      "\n",
      "\n",
      "Test statistic : Chi-Squared                    7.22     using 8 bins.\n",
      " Null hypothesis probability of 3.01e-01 with 6 degrees of freedom\n",
      " Current data and model not fit yet.\n",
      " Warning: renorm - no variable model to allow  renormalization\n",
      "\n",
      "Fit statistic  : C-Statistic                    4.12     using 8 bins.\n",
      "\n",
      "Warning: cstat statistic is only valid for Poisson data.\n",
      "    Source file is not Poisson for spectrum 1\n",
      "\n",
      "\n",
      "Test statistic : Chi-Squared                    7.22     using 8 bins.\n",
      " Null hypothesis probability of 3.01e-01 with 6 degrees of freedom\n",
      " Current data and model not fit yet.\n",
      " Warning: renorm - no variable model to allow  renormalization\n",
      "                                   Parameters\n",
      "C-Statistic  |beta|/N    Lvl    3:lg10Flux    4:PhoIndex\n",
      "***Warning: Negative alpha-matrix diagonal element for parameter 3\n",
      "***Warning: Negative alpha-matrix diagonal element for parameter 4\n",
      " Parameter 3 is pegged at -12 due to zero or negative pivot element, likely\n",
      " caused by the fit being insensitive to the parameter.\n",
      " Parameter 4 is pegged at 2 due to zero or negative pivot element, likely\n",
      " caused by the fit being insensitive to the parameter.\n",
      "/Users/slaha/Desktop/BAT_projects/GIT_Repository_directory_Jan2022/survey_data/FRB180916_data/00013201005_surveyresult/PHA_files/FRB180916_survey_point_20200371529.pha\n"
     ]
    },
    {
     "name": "stderr",
     "output_type": "stream",
     "text": [
      "***Warning: POISSERR keyword is missing or of wrong format, assuming FALSE.\n",
      "\n",
      "***XSPEC Error:  No variable parameters for fit "
     ]
    },
    {
     "data": {
      "text/plain": [
       "'\\n # Capturing the Flux and its error. saved to the model object, can be obtained by calling model(1).error, model(2).error\\n            model_params=dict()\\n            for i in range(1,model.nParameters+1):\\n                xsp.Fit.error(\"2.706 %d\"%(i))\\n\\n            #get the name of the parameter\\n                par_name=model(i).name\\n                model_params[par_name]=dict(val=model(i).values[0], lolim=model(i).error[0], hilim=model(i).error[1], errflag=model(i).error[-1])\\n            surveyobservation.set_pointing_info(pointing_id,\"model_params\", model_params, source_id=source_id)\\n\\n    #Incorporating the model names, parameters, errors into the BatSurvey object.\\n            xsp.Xset.save(pha_file.split(\".\")[0])\\n            xspec_savefile=os.path.join(pha_dir, pha_file.split(\".\")[0]+\".xcm\")\\n            surveyobservation.set_pointing_info(pointing_id,\"xspec_model\",xspec_savefile,source_id=source_id)\\n\\n    #ba.calculate_detection(obs, source_name)\\n    \\n    \\n  '"
      ]
     },
     "execution_count": 3,
     "metadata": {},
     "output_type": "execute_result"
    }
   ],
   "source": [
    "source_name=\"FRB180916\"\n",
    "source_id=\"FRB180916\"\n",
    "for obs in batsurvey_obs:\n",
    "\n",
    "    print(\"Running calculate_PHA for observation id\", obs.pointing_ids)\n",
    "    \n",
    "    obs.merge_pointings()\n",
    "    obs.calculate_pha(id_list=source_id, clean_dir=True)\n",
    "    pha_list=obs.get_pha_filenames(id_list=source_name)\n",
    "    ba.calc_response(pha_list)\n",
    "    \n",
    "    for pha in pha_list: \n",
    "        try:\n",
    "            ba.fit_spectrum(pha, obs)\n",
    "            print(pha)\n",
    "        except Exception as Error_with_Xspec_fitting:\n",
    "            #If XSPEC cannot fit because of negative counts\n",
    "            print (Error_with_Xspec_fitting)\n",
    "            #the fitting wasnt not successful and the dictionary was not created but want to enter the upper limit if\n",
    "            #statement\n",
    "            fluxerr_lolim=0\n",
    "            flux=1\n",
    "            nsigma=1\n",
    "            avg_flux_err=1\n",
    "            \n",
    "            \n",
    " \n",
    "        "
   ]
  },
  {
   "cell_type": "code",
   "execution_count": 4,
   "id": "32ebb5cf",
   "metadata": {},
   "outputs": [],
   "source": [
    "#Loop over individual PHA pointings\n",
    "\n",
    "    \n",
    "    \n",
    "    \n",
    "    \n",
    "   \n",
    "     "
   ]
  },
  {
   "cell_type": "code",
   "execution_count": 5,
   "id": "67236cd1",
   "metadata": {},
   "outputs": [],
   "source": [
    "     \n",
    "#ba.print_parameters(batsurvey_obs,source_name, values=[\"met_time\",\"utc_time\", \"exposure\",\"lg10Flux\", \"PhoIndex\"],savetable=True,save_file=\"out.txt\")\n",
    "    \n",
    "\n"
   ]
  },
  {
   "cell_type": "code",
   "execution_count": 6,
   "id": "b230c2fb",
   "metadata": {},
   "outputs": [],
   "source": [
    "source_id=\"FRB180916\"\n",
    "\n",
    "ba.print_parameters(batsurvey_obs,source_id, values=[\"met_time\",\"utc_time\", \"exposure\",\"lg10Flux\", \"PhoIndex\"],savetable=True,save_file=\"/Users/slaha/Desktop/BAT_projects/GIT_Repository_directory_Jan2022/survey_data/notebooks/out.txt\")\n",
    "    \n",
    "\n"
   ]
  },
  {
   "cell_type": "code",
   "execution_count": 7,
   "id": "540a30b6",
   "metadata": {
    "scrolled": true
   },
   "outputs": [
    {
     "name": "stdout",
     "output_type": "stream",
     "text": [
      "['20200371529']\n",
      "{'met_time': 602695795.0, 'exposure': 1088.0, 'utc_time': numpy.datetime64('2020-02-06T15:29:30.610148809'), 'mjd_time': 58885.64549317302, 'FRB180916': {'model_params': {'Emin': {'val': nan, 'lolim': nan, 'hilim': nan, 'errflag': 'TTTTTTTTT'}, 'Emax': {'val': nan, 'lolim': nan, 'hilim': nan, 'errflag': 'TTTTTTTTT'}, 'lg10Flux': {'val': nan, 'lolim': nan, 'hilim': nan, 'errflag': 'TTTTTTTTT'}, 'PhoIndex': {'val': nan, 'lolim': nan, 'hilim': nan, 'errflag': 'TTTTTTTTT'}, 'norm': {'val': nan, 'lolim': nan, 'hilim': nan, 'errflag': 'TTTTTTTTT'}}, 'xspec_model': '/Users/slaha/Desktop/BAT_projects/GIT_Repository_directory_Jan2022/survey_data/FRB180916_data/00013201005_surveyresult/PHA_files/FRB180916_survey_point_20200371529.xcm'}}\n",
      "{'model_params': {'Emin': {'val': nan, 'lolim': nan, 'hilim': nan, 'errflag': 'TTTTTTTTT'}, 'Emax': {'val': nan, 'lolim': nan, 'hilim': nan, 'errflag': 'TTTTTTTTT'}, 'lg10Flux': {'val': nan, 'lolim': nan, 'hilim': nan, 'errflag': 'TTTTTTTTT'}, 'PhoIndex': {'val': nan, 'lolim': nan, 'hilim': nan, 'errflag': 'TTTTTTTTT'}, 'norm': {'val': nan, 'lolim': nan, 'hilim': nan, 'errflag': 'TTTTTTTTT'}}, 'xspec_model': '/Users/slaha/Desktop/BAT_projects/GIT_Repository_directory_Jan2022/survey_data/FRB180916_data/00013201005_surveyresult/PHA_files/FRB180916_survey_point_20200371529.xcm'}\n"
     ]
    }
   ],
   "source": [
    "pointing_ids=obs.get_pointing_ids()\n",
    "print(pointing_ids)\n",
    "\n",
    "pointing_dict=obs.get_pointing_info(pointing_ids[0])\n",
    "print(pointing_dict)\n",
    "\n",
    "source_dict=obs.get_pointing_info(pointing_ids[0], source_id=source_name)\n",
    "print(source_dict)"
   ]
  },
  {
   "cell_type": "code",
   "execution_count": 8,
   "id": "7e8f7227",
   "metadata": {},
   "outputs": [
    {
     "name": "stdout",
     "output_type": "stream",
     "text": [
      "{'met_time': 602695795.0, 'exposure': 1088.0, 'utc_time': numpy.datetime64('2020-02-06T15:29:30.610148809'), 'mjd_time': 58885.64549317302, 'FRB180916': {'model_params': {'Emin': {'val': nan, 'lolim': nan, 'hilim': nan, 'errflag': 'TTTTTTTTT'}, 'Emax': {'val': nan, 'lolim': nan, 'hilim': nan, 'errflag': 'TTTTTTTTT'}, 'lg10Flux': {'val': nan, 'lolim': nan, 'hilim': nan, 'errflag': 'TTTTTTTTT'}, 'PhoIndex': {'val': nan, 'lolim': nan, 'hilim': nan, 'errflag': 'TTTTTTTTT'}, 'norm': {'val': nan, 'lolim': nan, 'hilim': nan, 'errflag': 'TTTTTTTTT'}}, 'xspec_model': '/Users/slaha/Desktop/BAT_projects/GIT_Repository_directory_Jan2022/survey_data/FRB180916_data/00013201005_surveyresult/PHA_files/FRB180916_survey_point_20200371529.xcm'}}\n"
     ]
    }
   ],
   "source": [
    "print(batsurvey_obs[0].get_pointing_info(\"20200371529\"))"
   ]
  },
  {
   "cell_type": "code",
   "execution_count": 10,
   "id": "9bb7310a",
   "metadata": {},
   "outputs": [
    {
     "name": "stdout",
     "output_type": "stream",
     "text": [
      "{'met_time': 602695795.0, 'exposure': 1088.0, 'utc_time': numpy.datetime64('2020-02-06T15:29:30.610148809'), 'mjd_time': 58885.64549317302, 'FRB180916': {'model_params': {'Emin': {'val': nan, 'lolim': nan, 'hilim': nan, 'errflag': 'TTTTTTTTT'}, 'Emax': {'val': nan, 'lolim': nan, 'hilim': nan, 'errflag': 'TTTTTTTTT'}, 'lg10Flux': {'val': nan, 'lolim': nan, 'hilim': nan, 'errflag': 'TTTTTTTTT'}, 'PhoIndex': {'val': nan, 'lolim': nan, 'hilim': nan, 'errflag': 'TTTTTTTTT'}, 'norm': {'val': nan, 'lolim': nan, 'hilim': nan, 'errflag': 'TTTTTTTTT'}}, 'xspec_model': '/Users/slaha/Desktop/BAT_projects/GIT_Repository_directory_Jan2022/survey_data/FRB180916_data/00013201005_surveyresult/PHA_files/FRB180916_survey_point_20200371529.xcm'}}\n"
     ]
    }
   ],
   "source": [
    "print(batsurvey_obs[0].get_pointing_info(\"20200371529\"))"
   ]
  },
  {
   "cell_type": "code",
   "execution_count": 11,
   "id": "0f2ce7ad",
   "metadata": {},
   "outputs": [
    {
     "name": "stdout",
     "output_type": "stream",
     "text": [
      "The condition here is nan 3 nan nan\n",
      "No detection, just upperlimits for the spectrum: FRB180916_survey_point_20200371529.pha\n",
      "Creating PHA file for  FRB180916\n",
      "Time interval: [602695795.0] [602696883.0]\n",
      "\n",
      "1 spectrum  in use\n",
      " \n",
      "Spectral Data File: FRB180916_survey_point_20200371529_bkgnsigma_5_upperlim.pha  Spectrum 1\n",
      "Net count rate (cts/s) for Spectrum:1  4.223e-03 +/- 5.308e-04\n",
      " Assigned to Data Group 1 and Plot Group 1\n",
      "  Noticed Channels:  1-8\n",
      "  Telescope: SWIFT Instrument: BAT  Channel Type: PI\n",
      "  Exposure Time: 1088 sec\n",
      " Using fit statistic: cstat\n",
      " Using Response (RMF) File            FRB180916_survey_point_20200371529_bkgnsigma_5_upperlim.rsp for Source 1\n",
      "\n",
      "******************************************************\n",
      "Fitting the 5 times bkg of the spectrum  FRB180916_survey_point_20200371529_bkgnsigma_5_upperlim.pha\n",
      "******************************************************\n",
      "******************************************************\n",
      "******************************************************\n",
      "(3.8425486312036285e-09, 0.0, 0.0, 0.0349003344001206, 0.0, 0.0)\n"
     ]
    },
    {
     "name": "stderr",
     "output_type": "stream",
     "text": [
      "***Warning: POISSERR keyword is missing or of wrong format, assuming FALSE.\n"
     ]
    },
    {
     "data": {
      "text/plain": [
       "[]"
      ]
     },
     "execution_count": 11,
     "metadata": {},
     "output_type": "execute_result"
    },
    {
     "name": "stdout",
     "output_type": "stream",
     "text": [
      "\n",
      "Fit statistic  : C-Statistic                   63.89     using 8 bins.\n",
      "\n",
      "Warning: cstat statistic is only valid for Poisson data.\n",
      "    Source file is not Poisson for spectrum 1\n",
      "\n",
      "\n",
      "Test statistic : Chi-Squared                  238.70     using 8 bins.\n",
      " Null hypothesis probability of 1.06e-48 with 6 degrees of freedom\n",
      " Current data and model not fit yet.\n",
      "\n",
      "========================================================================\n",
      "Model powerlaw<1> Source No.: 1   Active/On\n",
      "Model Model Component  Parameter  Unit     Value\n",
      " par  comp\n",
      "   1    1   powerlaw   PhoIndex            1.00000      +/-  0.0          \n",
      "   2    1   powerlaw   norm                1.00000      +/-  0.0          \n",
      "________________________________________________________________________\n",
      "\n",
      "\n",
      "Fit statistic  : C-Statistic                  645.40     using 8 bins.\n",
      "\n",
      "Warning: cstat statistic is only valid for Poisson data.\n",
      "    Source file is not Poisson for spectrum 1\n",
      "\n",
      "\n",
      "Test statistic : Chi-Squared              1.891658e+06     using 8 bins.\n",
      " Null hypothesis probability of 0.000000e+00 with 6 degrees of freedom\n",
      " Current data and model not fit yet.\n",
      "\n",
      "Fit statistic  : C-Statistic                  645.40     using 8 bins.\n",
      "\n",
      "Warning: cstat statistic is only valid for Poisson data.\n",
      "    Source file is not Poisson for spectrum 1\n",
      "\n",
      "\n",
      "Test statistic : Chi-Squared              1.891658e+06     using 8 bins.\n",
      " Null hypothesis probability of 0.000000e+00 with 7 degrees of freedom\n",
      " Current data and model not fit yet.\n",
      "\n",
      "Fit statistic  : C-Statistic                  645.40     using 8 bins.\n",
      "\n",
      "Warning: cstat statistic is only valid for Poisson data.\n",
      "    Source file is not Poisson for spectrum 1\n",
      "\n",
      "\n",
      "Test statistic : Chi-Squared              1.891658e+06     using 8 bins.\n",
      " Null hypothesis probability of 0.000000e+00 with 7 degrees of freedom\n",
      " Current data and model not fit yet.\n",
      "\n",
      "Fit statistic  : C-Statistic                   16.03     using 8 bins.\n",
      "\n",
      "Warning: cstat statistic is only valid for Poisson data.\n",
      "    Source file is not Poisson for spectrum 1\n",
      "\n",
      "\n",
      "Test statistic : Chi-Squared                  199.22     using 8 bins.\n",
      " Null hypothesis probability of 1.68e-39 with 7 degrees of freedom\n",
      " Current data and model not fit yet.\n",
      "  parameter 2 is not frozen.\n",
      "                                   Parameters\n",
      "C-Statistic  |beta|/N    Lvl        2:norm\n",
      "0.782049     0            -3     0.0132502\n",
      "====================\n",
      " Variances and Principal Axes\n",
      "                 2  \n",
      " 3.8211E-05|  1.0000  \n",
      "--------------------\n",
      "\n",
      "============\n",
      "  Covariance Matrix\n",
      "        1   \n",
      "   3.821e-05\n",
      "------------\n",
      "\n",
      "========================================================================\n",
      "Model powerlaw<1> Source No.: 1   Active/On\n",
      "Model Model Component  Parameter  Unit     Value\n",
      " par  comp\n",
      "   1    1   powerlaw   PhoIndex            1.00000      frozen\n",
      "   2    1   powerlaw   norm                1.32502E-02  +/-  6.18147E-03  \n",
      "________________________________________________________________________\n",
      "\n",
      "\n",
      "Fit statistic  : C-Statistic                    0.78     using 8 bins.\n",
      "\n",
      "Warning: cstat statistic is only valid for Poisson data.\n",
      "    Source file is not Poisson for spectrum 1\n",
      "\n",
      "\n",
      "Test statistic : Chi-Squared                   26.97     using 8 bins.\n",
      " Null hypothesis probability of 3.38e-04 with 7 degrees of freedom\n",
      "\n",
      "Parameters defined:\n",
      "========================================================================\n",
      "Model powerlaw<1> Source No.: 1   Active/On\n",
      "Model Model Component  Parameter  Unit     Value\n",
      " par  comp\n",
      "   1    1   powerlaw   PhoIndex            1.00000      frozen\n",
      "   2    1   powerlaw   norm                1.32502E-02  +/-  6.18147E-03  \n",
      "________________________________________________________________________\n",
      "\n",
      "\n",
      "Fit statistic  : C-Statistic                    0.78     using 8 bins.\n",
      "\n",
      "Warning: cstat statistic is only valid for Poisson data.\n",
      "    Source file is not Poisson for spectrum 1\n",
      "\n",
      "\n",
      "Test statistic : Chi-Squared                   26.97     using 8 bins.\n",
      " Null hypothesis probability of 3.38e-04 with 7 degrees of freedom\n",
      " Model Flux    0.0349 photons (3.8425e-09 ergs/cm^2/s) range (14.000 - 195.00 keV)\n"
     ]
    }
   ],
   "source": [
    "ba.calculate_detection(obs, source_name)\n"
   ]
  },
  {
   "cell_type": "code",
   "execution_count": 12,
   "id": "b38ab555",
   "metadata": {},
   "outputs": [
    {
     "name": "stdout",
     "output_type": "stream",
     "text": [
      "Obs ID  \t Pointing ID\t\tmet_time\tutc_time\texposure\tlg10Flux\tPhoIndex\n",
      "00013201005\t20200371529\t602695795.0\t2020-02-06T15:29:30.610148809\t1088.0\t  3.842549e-09  \tnan-nan\\+nan\n",
      "           \n"
     ]
    }
   ],
   "source": [
    "ba.print_parameters(obs,source_id, values=[\"met_time\",\"utc_time\", \"exposure\",\"lg10Flux\", \"PhoIndex\"],savetable=False,save_file=\"/Users/slaha/Desktop/BAT_projects/GIT_Repository_directory_Jan2022/survey_data/notebooks/out.txt\")\n",
    "    \n",
    "\n"
   ]
  },
  {
   "cell_type": "code",
   "execution_count": 13,
   "id": "33e64a6b",
   "metadata": {},
   "outputs": [
    {
     "name": "stdout",
     "output_type": "stream",
     "text": [
      "{'channel': [1, 2, 3, 4, 5, 6, 7, 8], 'emin': [14.0, 20.0, 24.0, 35.0, 50.0, 75.0, 100.0, 150.0], 'emax': [20.0, 24.0, 35.0, 50.0, 75.0, 100.0, 150.0, 195.0], 'syserr': [0.6, 0.3, 0.15, 0.15, 0.15, 0.15, 0.15, 0.6], 'pha_file_names_list': ['/Users/slaha/Desktop/BAT_projects/GIT_Repository_directory_Jan2022/survey_data/FRB180916_data/00013201005_surveyresult/PHA_files/FRB180916_survey_point_20200371529.pha', '/Users/slaha/Desktop/BAT_projects/GIT_Repository_directory_Jan2022/survey_data/FRB180916_data/00013201005_surveyresult/PHA_files/FRB180916_survey_point_20200371529_bkgnsigma_5_upperlim.pha'], 'obs_id': '00013201005', 'obs_dir': '/Users/slaha/Desktop/BAT_projects/GIT_Repository_directory_Jan2022/survey_data/FRB180916_data/00013201005', 'survey_input': {'indir': '/Users/slaha/Desktop/BAT_projects/GIT_Repository_directory_Jan2022/survey_data/FRB180916_data/00013201005', 'outdir': '/Users/slaha/Desktop/BAT_projects/GIT_Repository_directory_Jan2022/survey_data/FRB180916_data/00013201005_surveyresult', 'incatalog': '/Users/slaha/Desktop/BAT_projects/GIT_Repository_directory_Jan2022/survey_data/batanalysis/data/survey6b_2.cat', 'detthresh': '10000', 'detthresh2': '10000', 'clobber': 'YES'}, 'result_dir': '/Users/slaha/Desktop/BAT_projects/GIT_Repository_directory_Jan2022/survey_data/FRB180916_data/00013201005_surveyresult', 'batsurvey_result': <heasoftpy.core.result.Result object at 0x7f9171842a90>, 'pointing_flux_files': ['/Users/slaha/Desktop/BAT_projects/GIT_Repository_directory_Jan2022/survey_data/FRB180916_data/00013201005_surveyresult/point_20200371529/point_20200371529_2.cat'], 'pointing_ids': ['20200371529'], 'pointing_info': {'20200371529': {'met_time': 602695795.0, 'exposure': 1088.0, 'utc_time': numpy.datetime64('2020-02-06T15:29:30.610148809'), 'mjd_time': 58885.64549317302, 'FRB180916': {'model_params': {'Emin': {'val': nan, 'lolim': nan, 'hilim': nan, 'errflag': 'TTTTTTTTT'}, 'Emax': {'val': nan, 'lolim': nan, 'hilim': nan, 'errflag': 'TTTTTTTTT'}, 'lg10Flux': {'val': nan, 'lolim': nan, 'hilim': nan, 'errflag': 'TTTTTTTTT'}, 'PhoIndex': {'val': nan, 'lolim': nan, 'hilim': nan, 'errflag': 'TTTTTTTTT'}, 'norm': {'val': nan, 'lolim': nan, 'hilim': nan, 'errflag': 'TTTTTTTTT'}}, 'xspec_model': '/Users/slaha/Desktop/BAT_projects/GIT_Repository_directory_Jan2022/survey_data/FRB180916_data/00013201005_surveyresult/PHA_files/FRB180916_survey_point_20200371529.xcm', 'nsigma_lg10flux_upperlim': 3.8425486312036285e-09}}}, 'merge_input': {'keycolumn': 'NAME', 'infile': '/Users/slaha/Desktop/BAT_projects/GIT_Repository_directory_Jan2022/survey_data/FRB180916_data/00013201005_surveyresult/point_20200371529/point_20200371529_2.cat', 'outfile': '/Users/slaha/Desktop/BAT_projects/GIT_Repository_directory_Jan2022/survey_data/FRB180916_data/00013201005_surveyresult/merged_pointings_lc/%s.cat'}}\n"
     ]
    }
   ],
   "source": [
    "print(obs.__dict__)"
   ]
  },
  {
   "cell_type": "code",
   "execution_count": null,
   "id": "105986b6",
   "metadata": {},
   "outputs": [],
   "source": []
  }
 ],
 "metadata": {
  "kernelspec": {
   "display_name": "Python 3 (ipykernel)",
   "language": "python",
   "name": "python3"
  },
  "language_info": {
   "codemirror_mode": {
    "name": "ipython",
    "version": 3
   },
   "file_extension": ".py",
   "mimetype": "text/x-python",
   "name": "python",
   "nbconvert_exporter": "python",
   "pygments_lexer": "ipython3",
   "version": "3.9.12"
  }
 },
 "nbformat": 4,
 "nbformat_minor": 5
}
