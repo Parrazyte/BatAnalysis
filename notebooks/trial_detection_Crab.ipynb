{
 "cells": [
  {
   "cell_type": "code",
   "execution_count": 4,
   "metadata": {},
   "outputs": [],
   "source": [
    "import batanalysis as ba\n",
    "import os\n",
    "import numpy as np\n",
    "#from heasoftpy import HeasoftpyExecutionError"
   ]
  },
  {
   "cell_type": "markdown",
   "metadata": {},
   "source": [
    "ead in the file, then create a bat survey object for all the observation"
   ]
  },
  {
   "cell_type": "code",
   "execution_count": 5,
   "metadata": {},
   "outputs": [],
   "source": [
    "Crab_dir=\"/Users/slaha/Desktop/BAT_projects/GIT_Repository_directory_Jan2022/survey_data/Crab_data/\"  #This is the path to the directory where your observations are kept"
   ]
  },
  {
   "cell_type": "code",
   "execution_count": 11,
   "metadata": {},
   "outputs": [
    {
     "name": "stdout",
     "output_type": "stream",
     "text": [
      "00050100014\n"
     ]
    }
   ],
   "source": [
    "list_of_obsid=np.genfromtxt((Crab_dir+\"list_of_obsid.txt\"), usecols=(0),unpack=True, dtype=str) \n",
    "#For multiple observations need to create a text file of obsids.\n",
    "\n",
    "print(list_of_obsid)\n",
    "\n",
    "\n"
   ]
  },
  {
   "cell_type": "code",
   "execution_count": 7,
   "metadata": {},
   "outputs": [],
   "source": [
    "batsurvey_obs=[]        #We are saving the BatSurvey objects in this list while we loop over."
   ]
  },
  {
   "cell_type": "code",
   "execution_count": 9,
   "metadata": {},
   "outputs": [],
   "source": [
    "input_dict=dict(indir=None,outdir=None)       #Creating a dictionary to set up the input and output directories and the files. Note that you need to ensure that your source is in the catalog. Or else you may need to add it."
   ]
  },
  {
   "cell_type": "code",
   "execution_count": 15,
   "metadata": {},
   "outputs": [
    {
     "ename": "ValueError",
     "evalue": "The observation id 00050100014 has no survey data.",
     "output_type": "error",
     "traceback": [
      "\u001b[0;31m---------------------------------------------------------------------------\u001b[0m",
      "\u001b[0;31mHeasoftpyExecutionError\u001b[0m                   Traceback (most recent call last)",
      "File \u001b[0;32m~/Desktop/BAT_projects/GIT_Repository_directory_Jan2022/survey_data/batanalysis/batobservation.py:294\u001b[0m, in \u001b[0;36mBatSurvey._call_batsurvey\u001b[0;34m(self, input_dict)\u001b[0m\n\u001b[1;32m    293\u001b[0m \u001b[38;5;28;01mtry\u001b[39;00m:\n\u001b[0;32m--> 294\u001b[0m     \u001b[38;5;28;01mreturn\u001b[39;00m \u001b[43mhsp\u001b[49m\u001b[38;5;241;43m.\u001b[39;49m\u001b[43mbatsurvey\u001b[49m\u001b[43m(\u001b[49m\u001b[38;5;241;43m*\u001b[39;49m\u001b[38;5;241;43m*\u001b[39;49m\u001b[43minput_dict\u001b[49m\u001b[43m)\u001b[49m\n\u001b[1;32m    296\u001b[0m \u001b[38;5;28;01mexcept\u001b[39;00m \u001b[38;5;167;01mException\u001b[39;00m:\n",
      "File \u001b[0;32m~/Desktop/Software/HEASOFT/heasoft-6.29/x86_64-apple-darwin20.6.0/lib/python/heasoftpy/defs/batsurvey.py:145\u001b[0m, in \u001b[0;36mbatsurvey\u001b[0;34m(*args, **kwargs)\u001b[0m\n\u001b[1;32m    144\u001b[0m \u001b[38;5;28;01mif\u001b[39;00m task_res\u001b[38;5;241m.\u001b[39mreturncode:\n\u001b[0;32m--> 145\u001b[0m     \u001b[38;5;28;01mraise\u001b[39;00m hsp_err\u001b[38;5;241m.\u001b[39mHeasoftpyExecutionError(task_args[\u001b[38;5;241m0\u001b[39m], task_res)\n\u001b[1;32m    146\u001b[0m updated_par_contents \u001b[38;5;241m=\u001b[39m hsp_ape\u001b[38;5;241m.\u001b[39mread_par_file(par_path)\n",
      "\u001b[0;31mHeasoftpyExecutionError\u001b[0m: \nError running: batsurvey\nreturncode: 6\noutput:\nERROR: Device not configured\nTask batsurvey 0.0 terminating with status 6\nUnable to redirect prompts to the /dev/tty (at headas_stdio.c:152)\n",
      "\nDuring handling of the above exception, another exception occurred:\n",
      "\u001b[0;31mValueError\u001b[0m                                Traceback (most recent call last)",
      "Input \u001b[0;32mIn [15]\u001b[0m, in \u001b[0;36m<cell line: 5>\u001b[0;34m()\u001b[0m\n\u001b[1;32m      1\u001b[0m \u001b[38;5;66;03m#for i in [list_of_obsid]:\u001b[39;00m\n\u001b[1;32m      2\u001b[0m     \u001b[38;5;66;03m#print(i)\u001b[39;00m\n\u001b[1;32m      3\u001b[0m     \u001b[38;5;66;03m#try:\u001b[39;00m\n\u001b[0;32m----> 5\u001b[0m obs\u001b[38;5;241m=\u001b[39m\u001b[43mba\u001b[49m\u001b[38;5;241;43m.\u001b[39;49m\u001b[43mBatSurvey\u001b[49m\u001b[43m(\u001b[49m\u001b[38;5;28;43mstr\u001b[39;49m\u001b[43m(\u001b[49m\u001b[43mi\u001b[49m\u001b[43m)\u001b[49m\u001b[43m,\u001b[49m\u001b[43mobs_dir\u001b[49m\u001b[38;5;241;43m=\u001b[39;49m\u001b[43mCrab_dir\u001b[49m\u001b[43m,\u001b[49m\u001b[43mrecalc\u001b[49m\u001b[38;5;241;43m=\u001b[39;49m\u001b[38;5;28;43;01mTrue\u001b[39;49;00m\u001b[43m)\u001b[49m\n",
      "File \u001b[0;32m~/Desktop/BAT_projects/GIT_Repository_directory_Jan2022/survey_data/batanalysis/batobservation.py:211\u001b[0m, in \u001b[0;36mBatSurvey.__init__\u001b[0;34m(self, obs_id, obs_dir, input_dict, recalc, verbose, load_file)\u001b[0m\n\u001b[1;32m    205\u001b[0m     input_dict_copy[\u001b[38;5;124m'\u001b[39m\u001b[38;5;124mclobber\u001b[39m\u001b[38;5;124m'\u001b[39m] \u001b[38;5;241m=\u001b[39m \u001b[38;5;124m\"\u001b[39m\u001b[38;5;124mYES\u001b[39m\u001b[38;5;124m\"\u001b[39m\n\u001b[1;32m    207\u001b[0m \u001b[38;5;66;03m#if the user wants to relaculate things or if recalc==False but the result directory specified doesnt exist\u001b[39;00m\n\u001b[1;32m    208\u001b[0m \u001b[38;5;66;03m#we need to recalculate things for further processing, IMPLEMENT LATER ON\u001b[39;00m\n\u001b[1;32m    209\u001b[0m \u001b[38;5;66;03m#if recalc or os.path.isdir(self.result_dir):\u001b[39;00m\n\u001b[1;32m    210\u001b[0m \u001b[38;5;66;03m# call the heasoftpy command\u001b[39;00m\n\u001b[0;32m--> 211\u001b[0m bs\u001b[38;5;241m=\u001b[39m\u001b[38;5;28;43mself\u001b[39;49m\u001b[38;5;241;43m.\u001b[39;49m\u001b[43m_call_batsurvey\u001b[49m\u001b[43m(\u001b[49m\u001b[43minput_dict_copy\u001b[49m\u001b[43m)\u001b[49m\n\u001b[1;32m    212\u001b[0m \u001b[38;5;28mself\u001b[39m\u001b[38;5;241m.\u001b[39mbatsurvey_result\u001b[38;5;241m=\u001b[39mbs\n\u001b[1;32m    213\u001b[0m \u001b[38;5;66;03m#can print output of batsurvey with ba.stdout.split(\"\\n\")\u001b[39;00m\n\u001b[1;32m    214\u001b[0m \n\u001b[1;32m    215\u001b[0m \u001b[38;5;66;03m#identify the pointings that have been created\u001b[39;00m\n\u001b[1;32m    216\u001b[0m \u001b[38;5;66;03m#all these pointings may not have the object of interest, so need to double check that with the\u001b[39;00m\n\u001b[1;32m    217\u001b[0m \u001b[38;5;66;03m# merge_pointings method\u001b[39;00m\n",
      "File \u001b[0;32m~/Desktop/BAT_projects/GIT_Repository_directory_Jan2022/survey_data/batanalysis/batobservation.py:297\u001b[0m, in \u001b[0;36mBatSurvey._call_batsurvey\u001b[0;34m(self, input_dict)\u001b[0m\n\u001b[1;32m    294\u001b[0m     \u001b[38;5;28;01mreturn\u001b[39;00m hsp\u001b[38;5;241m.\u001b[39mbatsurvey(\u001b[38;5;241m*\u001b[39m\u001b[38;5;241m*\u001b[39minput_dict)\n\u001b[1;32m    296\u001b[0m \u001b[38;5;28;01mexcept\u001b[39;00m \u001b[38;5;167;01mException\u001b[39;00m:\n\u001b[0;32m--> 297\u001b[0m     \u001b[38;5;28;01mraise\u001b[39;00m \u001b[38;5;167;01mValueError\u001b[39;00m (\u001b[38;5;124m\"\u001b[39m\u001b[38;5;124mThe observation id \u001b[39m\u001b[38;5;132;01m%s\u001b[39;00m\u001b[38;5;124m has no survey data.\u001b[39m\u001b[38;5;124m\"\u001b[39m \u001b[38;5;241m%\u001b[39m(\u001b[38;5;28mself\u001b[39m\u001b[38;5;241m.\u001b[39mobs_id))\n",
      "\u001b[0;31mValueError\u001b[0m: The observation id 00050100014 has no survey data."
     ]
    }
   ],
   "source": [
    "#for i in [list_of_obsid]:\n",
    "    #print(i)\n",
    "    #try:\n",
    "        \n",
    "obs=ba.BatSurvey(str(i),obs_dir=Crab_dir,recalc=True)\n",
    "    \n",
    "        #obs.save()\n",
    "        #batsurvey_obs.append(obs)\n",
    "    #except ValueError:\n",
    "        #print(\"Obsid has no survey data\")"
   ]
  },
  {
   "cell_type": "markdown",
   "metadata": {},
   "source": [
    "\n",
    "<br>\n",
    "This portion of the code can be uncommented when you have already run the batsurvey observation once (above), and just need to use them to analyze the data. In that situation, you need to comment out the above for loop entirely.<br>\n",
    "batsurvey_obs=[]<br>\n",
    "for i in list_of_obsid:<br>\n",
    "    try:<br>\n",
    "        batsurvey_obs.append(ba.BatSurvey(str(i), load_file=os.path.join(Crab_dir,\"%s_surveyresult/batsurvey.pickle\"%(str(i)))))<br>\n",
    "        print(\"Loading observation id\", i)<br>\n",
    "    except FileNotFoundError:<br>\n",
    "        pass<br>\n",
    "print(\"I am ending the loading process here\")<br>\n"
   ]
  },
  {
   "cell_type": "code",
   "execution_count": null,
   "metadata": {},
   "outputs": [],
   "source": [
    "for obs in batsurvey_obs:\n",
    "    print(\"Running calculate_PHA for observation id\", obs.pointing_ids)\n",
    "    obs.merge_pointings()\n",
    "    obs.pointing_ids \n",
    "    obs.calculate_pha(id_list=\"crab\",clean_dir=True)\n",
    "    ba.calc_response(obs.pha_file_names_list)\n",
    "    fluxarray=[]\n",
    "    fluxarray_lolim=[]\n",
    "    fluxarray_hilim=[]\n",
    "    for pha,point_id in zip(obs.pha_file_names_list,obs.pointing_ids): #Looping over individual PHA/pointings\n",
    "        try:\t\t\t\t\t\t\t#If XSPEC cannot fit because of negative counts\n",
    "            flux,fluxerr,_=ba.fit_spectrum(pha,plot_fit=True)\n",
    "        \n",
    "            fluxarray.append(flux)\n",
    "            fluxarray_lolim.append(fluxerr[0]) \n",
    "            fluxarray_hilim.append(fluxerr[1]) \n",
    "        except Exception as Error_with_Xspec_fitting:\n",
    "            print (Error_with_Xspec_fitting) \n",
    "            fluxarray.append(0)\n",
    "            fluxarray_lolim.append(0) \n",
    "            fluxarray_hilim.append(0) \n",
    "        \n",
    "    ba.calculate_detection(obs,fluxarray,fluxarray_lolim,fluxarray_hilim,source_list=\"FRB180916\",plot_fit=True)"
   ]
  },
  {
   "cell_type": "code",
   "execution_count": null,
   "metadata": {},
   "outputs": [],
   "source": [
    "ba.print_parameters(batsurvey_obs,values=[\"met_time\",\"utc_time\", \"exposure\",\"flux\",\"flux_lolim\", \"flux_hilim\"],savetable=True, save_file=Crab_dir+\"200_onwards_output.txt\", latex_table=True)"
   ]
  },
  {
   "cell_type": "markdown",
   "metadata": {},
   "source": [
    "o load all the saved data<br>\n",
    "bs=[]<br>\n",
    "or i in list_of_obsid:<br>\n",
    "   obs.append(ba.BatSurvey(str(i), load_file=os.path.join(FRB180916_dir,\"%s_surveyresult/batsurvey.pickle\"%(str(i)))))"
   ]
  },
  {
   "cell_type": "markdown",
   "metadata": {},
   "source": [
    "o combine all of the light curves<br>\n",
    "a.combine_survey_lc(batsurvey_obs)"
   ]
  },
  {
   "cell_type": "markdown",
   "metadata": {},
   "source": [
    "o plot the light curve<br>\n",
    "a.plot_survey_lc(os.path.join(os.path.split(batsurvey_obs[0].result_dir)[0], \"total_lc\"), time_unit=\"MJD\",id_list=\"FRB180916\")"
   ]
  }
 ],
 "metadata": {
  "kernelspec": {
   "display_name": "Python 3 (ipykernel)",
   "language": "python",
   "name": "python3"
  },
  "language_info": {
   "codemirror_mode": {
    "name": "ipython",
    "version": 3
   },
   "file_extension": ".py",
   "mimetype": "text/x-python",
   "name": "python",
   "nbconvert_exporter": "python",
   "pygments_lexer": "ipython3",
   "version": "3.8.13"
  }
 },
 "nbformat": 4,
 "nbformat_minor": 2
}
