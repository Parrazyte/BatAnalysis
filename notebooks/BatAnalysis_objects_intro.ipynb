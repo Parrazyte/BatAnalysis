{
 "cells": [
  {
   "cell_type": "markdown",
   "id": "704f0158",
   "metadata": {},
   "source": [
    "# Intro to the BatAnalysis Objects\n",
    "\n",
    "In this notebook, we will cover the basics of the BatAnalysis objects that are manipulated to conduct BAT analyses. First, lets import the BatAnalysis package.  "
   ]
  },
  {
   "cell_type": "code",
   "execution_count": 1,
   "id": "cb4bb11a",
   "metadata": {},
   "outputs": [
    {
     "name": "stderr",
     "output_type": "stream",
     "text": [
      "<frozen importlib._bootstrap>:219: RuntimeWarning: scipy._lib.messagestream.MessageStream size changed, may indicate binary incompatibility. Expected 56 from C header, got 64 from PyObject\n"
     ]
    }
   ],
   "source": [
    "import batanalysis as ba"
   ]
  },
  {
   "cell_type": "markdown",
   "id": "f6279436",
   "metadata": {},
   "source": [
    "At any point, we can do:"
   ]
  },
  {
   "cell_type": "code",
   "execution_count": null,
   "id": "c5b25e4b",
   "metadata": {},
   "outputs": [],
   "source": [
    "ba.BatObservation?"
   ]
  },
  {
   "cell_type": "markdown",
   "id": "cef05f4d",
   "metadata": {},
   "source": [
    "to pull up the doc string for reference. \n",
    "\n",
    "This BatObservation object is the most basic object that all other objects are derived from and we will not spend any time on this portion of the BatAnalysis code."
   ]
  },
  {
   "cell_type": "markdown",
   "id": "2eddc872",
   "metadata": {},
   "source": [
    "## The BatSurvey Object\n",
    "\n",
    "This object is the primary way to analyze BAT survey data. If we pull up the docstring by doing:"
   ]
  },
  {
   "cell_type": "code",
   "execution_count": 4,
   "id": "6f82ce1c",
   "metadata": {},
   "outputs": [],
   "source": [
    "ba.BatSurvey?"
   ]
  },
  {
   "cell_type": "markdown",
   "id": "d5d9c823",
   "metadata": {},
   "source": [
    "We see that there are a number of methods that can be run to call HEASoftpy's `batsurvey` with specified parameters, merging the results of `batsurvey`, reading various information into the BatSurvey, and saving/loading the status of the BatSurvey object. These methods are run in the parallel function call in the various example notebooks included in the notebook directory.\n",
    "\n",
    "\n",
    "One important aspect of the BatSurvey object is the way that it is organized. This can be understood in the framework of a system directory. The BatSurvey object is organized as follows:\n",
    "\n",
    "- /BatSurvey object\n",
    "    - /other properties that are specific to a given BAT survey observation\n",
    "    - /pointing ID 1\n",
    "        - /source 1\n",
    "            - /other information related to the source\n",
    "    - /pointing ID 2\n",
    "        - /source 1\n",
    "            - /other information related to the source\n",
    "\n"
   ]
  },
  {
   "cell_type": "markdown",
   "id": "c941c063",
   "metadata": {},
   "source": [
    "## The MosaicBatSurvey Object\n",
    "\n",
    "This object is the primary way to analyze BAT mosaic images, __not create the mosaic images__. If we pull up the docstring by doing:"
   ]
  },
  {
   "cell_type": "code",
   "execution_count": 5,
   "id": "6aa57980",
   "metadata": {},
   "outputs": [],
   "source": [
    "ba.MosaicBatSurvey?"
   ]
  },
  {
   "cell_type": "code",
   "execution_count": null,
   "id": "4798559b",
   "metadata": {},
   "outputs": [],
   "source": []
  }
 ],
 "metadata": {
  "kernelspec": {
   "display_name": "Python 3 (ipykernel)",
   "language": "python",
   "name": "python3"
  },
  "language_info": {
   "codemirror_mode": {
    "name": "ipython",
    "version": 3
   },
   "file_extension": ".py",
   "mimetype": "text/x-python",
   "name": "python",
   "nbconvert_exporter": "python",
   "pygments_lexer": "ipython3",
   "version": "3.8.16"
  }
 },
 "nbformat": 4,
 "nbformat_minor": 5
}
